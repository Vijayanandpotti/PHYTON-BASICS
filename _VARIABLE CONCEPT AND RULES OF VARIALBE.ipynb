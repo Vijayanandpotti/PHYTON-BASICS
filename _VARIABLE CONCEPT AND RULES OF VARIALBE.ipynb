{
 "cells": [
  {
   "cell_type": "markdown",
   "id": "fc3e3005-d9fd-4170-ab32-88fd2b1ec6d0",
   "metadata": {},
   "source": [
    "# PHYTON VARIABLE AND RULES OF VARAIBLE\n",
    "### Phyton Variable Concept = Phyton Identifier Concept = Phyton Object Concept"
   ]
  },
  {
   "cell_type": "markdown",
   "id": "370973af-bc3d-48ee-93b9-3738007d2f6c",
   "metadata": {},
   "source": [
    "### syntax of define variable ||`VARIBALE NAME = VALUE` ||\n",
    "                            "
   ]
  },
  {
   "cell_type": "code",
   "execution_count": 1,
   "id": "07140288-b460-4e87-a026-3a31bca76835",
   "metadata": {},
   "outputs": [
    {
     "data": {
      "text/plain": [
       "15"
      ]
     },
     "execution_count": 1,
     "metadata": {},
     "output_type": "execute_result"
    }
   ],
   "source": [
    "NIT = 15\n",
    "NIT"
   ]
  },
  {
   "cell_type": "code",
   "execution_count": null,
   "id": "2f2c0eac-602f-4f2e-96e1-d69ccb2be6a3",
   "metadata": {},
   "outputs": [],
   "source": []
  },
  {
   "cell_type": "markdown",
   "id": "083dcc5f-3cb8-4836-a4eb-cc6a4fc55324",
   "metadata": {},
   "source": [
    "#### For example: In the abouve code `NIT is  variable name`|| and `15 is value`\n",
    "\n",
    "- We call variable with same name it means when we enter variable namne as NIT, the system will store in RAM space with same variable name \n",
    "\n",
    "- For futher code  aslo we need to use same NIT we cannot use nit to get the output since variable name is ## CASE SENSITIVE ##"
   ]
  },
  {
   "cell_type": "code",
   "execution_count": 2,
   "id": "4877e4ba-9220-42d6-b3f5-705b5348940c",
   "metadata": {},
   "outputs": [
    {
     "data": {
      "text/plain": [
       "20"
      ]
     },
     "execution_count": 2,
     "metadata": {},
     "output_type": "execute_result"
    }
   ],
   "source": [
    "NIT = 20\n",
    "NIT"
   ]
  },
  {
   "cell_type": "markdown",
   "id": "11c17149-98d4-4be6-b271-ad3f6f502cae",
   "metadata": {},
   "source": [
    "-  We can change the memory, earlier we have defined NIT as 15 and in the above code we have defined  NIT as 20, so the output changes since we have defined new memory for NIT and old memory will be delted\n",
    "\n",
    "- To get ole memory again we need to define with same varvialbe name and value for example: NIT = 15\n",
    "\n",
    "- Whatever variable name we define the value shows as per the present variable name only. "
   ]
  },
  {
   "cell_type": "code",
   "execution_count": 3,
   "id": "12a54f7c-9825-4818-985b-d1231861d004",
   "metadata": {},
   "outputs": [
    {
     "data": {
      "text/plain": [
       "15"
      ]
     },
     "execution_count": 3,
     "metadata": {},
     "output_type": "execute_result"
    }
   ],
   "source": [
    "v= 15\n",
    "v"
   ]
  },
  {
   "cell_type": "code",
   "execution_count": 4,
   "id": "35668632-567b-4db3-869a-f39038490b55",
   "metadata": {},
   "outputs": [
    {
     "name": "stdout",
     "output_type": "stream",
     "text": [
      "15\n",
      "20\n"
     ]
    }
   ],
   "source": [
    "print (v)\n",
    "print (NIT)"
   ]
  },
  {
   "cell_type": "markdown",
   "id": "40d88720-eb3d-4eae-a45d-49597caa8871",
   "metadata": {},
   "source": [
    "- #### In memory system will store two variables with name and value"
   ]
  },
  {
   "cell_type": "code",
   "execution_count": 5,
   "id": "1079cafa-1a20-42e8-896c-c72a18f6c224",
   "metadata": {},
   "outputs": [
    {
     "ename": "SyntaxError",
     "evalue": "invalid decimal literal (3644059140.py, line 1)",
     "output_type": "error",
     "traceback": [
      "\u001b[1;36m  Cell \u001b[1;32mIn[5], line 1\u001b[1;36m\u001b[0m\n\u001b[1;33m    1var = 20\u001b[0m\n\u001b[1;37m    ^\u001b[0m\n\u001b[1;31mSyntaxError\u001b[0m\u001b[1;31m:\u001b[0m invalid decimal literal\n"
     ]
    }
   ],
   "source": [
    "1var = 20\n",
    "1var"
   ]
  },
  {
   "cell_type": "markdown",
   "id": "5c9a6ade-2e6c-4f59-a60b-c7b35f23208b",
   "metadata": {},
   "source": [
    "- #### It is showing error because Varialbe name never start with digit or numeric"
   ]
  },
  {
   "cell_type": "code",
   "execution_count": 6,
   "id": "040b9694-147e-4ec0-885e-407f7ec29bea",
   "metadata": {},
   "outputs": [
    {
     "data": {
      "text/plain": [
       "20"
      ]
     },
     "execution_count": 6,
     "metadata": {},
     "output_type": "execute_result"
    }
   ],
   "source": [
    "var1 = 20\n",
    "var1"
   ]
  },
  {
   "cell_type": "markdown",
   "id": "686ddb8f-bd97-4348-b100-c169acd9b56a",
   "metadata": {},
   "source": [
    "- #### In the above code with have give variable name as var1, we can add digit in the variable name but cannot add  as first letter or word.  "
   ]
  },
  {
   "cell_type": "code",
   "execution_count": 7,
   "id": "53fa83ce-2bd6-4f01-aebd-95f6ba4639a9",
   "metadata": {},
   "outputs": [
    {
     "ename": "SyntaxError",
     "evalue": "invalid syntax (369491260.py, line 1)",
     "output_type": "error",
     "traceback": [
      "\u001b[1;36m  Cell \u001b[1;32mIn[7], line 1\u001b[1;36m\u001b[0m\n\u001b[1;33m    var$ = 50\u001b[0m\n\u001b[1;37m       ^\u001b[0m\n\u001b[1;31mSyntaxError\u001b[0m\u001b[1;31m:\u001b[0m invalid syntax\n"
     ]
    }
   ],
   "source": [
    "var$ = 50\n",
    "var$"
   ]
  },
  {
   "cell_type": "markdown",
   "id": "9522a74b-d206-4026-8ae9-d964f19bc943",
   "metadata": {},
   "source": [
    "- #### It is showing error because in  Varialbe name no special character is allowed.\n",
    "- #### We can use only one sepcial character that is under score `_` as you can see below."
   ]
  },
  {
   "cell_type": "code",
   "execution_count": 8,
   "id": "a1e6ec94-364b-451d-a7e6-cb1c43484644",
   "metadata": {},
   "outputs": [
    {
     "data": {
      "text/plain": [
       "67"
      ]
     },
     "execution_count": 8,
     "metadata": {},
     "output_type": "execute_result"
    }
   ],
   "source": [
    "var_=67\n",
    "var_"
   ]
  },
  {
   "cell_type": "code",
   "execution_count": 9,
   "id": "c39e05fa-ee87-47b2-8dec-13c80d1f6bd6",
   "metadata": {},
   "outputs": [
    {
     "name": "stdout",
     "output_type": "stream",
     "text": [
      "80\n",
      "20\n"
     ]
    }
   ],
   "source": [
    "x_train, x_test = 80, 20\n",
    "print(x_train)\n",
    "print(x_test)"
   ]
  },
  {
   "cell_type": "code",
   "execution_count": 10,
   "id": "9fd9da42-c705-4158-ad31-da3b791f95c2",
   "metadata": {},
   "outputs": [
    {
     "ename": "ValueError",
     "evalue": "too many values to unpack (expected 2)",
     "output_type": "error",
     "traceback": [
      "\u001b[1;31m---------------------------------------------------------------------------\u001b[0m",
      "\u001b[1;31mValueError\u001b[0m                                Traceback (most recent call last)",
      "Cell \u001b[1;32mIn[10], line 1\u001b[0m\n\u001b[1;32m----> 1\u001b[0m x_train, x_test \u001b[38;5;241m=\u001b[39m \u001b[38;5;241m80\u001b[39m, \u001b[38;5;241m20\u001b[39m, \u001b[38;5;241m50\u001b[39m\n\u001b[0;32m      2\u001b[0m \u001b[38;5;28mprint\u001b[39m(x_train)\n\u001b[0;32m      3\u001b[0m \u001b[38;5;28mprint\u001b[39m(x_test)\n",
      "\u001b[1;31mValueError\u001b[0m: too many values to unpack (expected 2)"
     ]
    }
   ],
   "source": [
    "x_train, x_test = 80, 20, 50\n",
    "print(x_train)\n",
    "print(x_test)"
   ]
  },
  {
   "cell_type": "markdown",
   "id": "2fe20e09-528f-499f-9e51-5458d1c64502",
   "metadata": {},
   "source": [
    "- #### In the above code it is showing error beacuse we have given only two varaibles name but  three values \n",
    "- #### We can assign only as per ( how many varialbe name = how many values ) only\n",
    "- #### We cannot assgin three values for two variable name that is why it is showing error. \n",
    "- #### You can see the output below for the above code."
   ]
  },
  {
   "cell_type": "code",
   "execution_count": 11,
   "id": "b6702610-8c19-41e6-ae4c-b3f3fbe5f3b2",
   "metadata": {},
   "outputs": [
    {
     "name": "stdout",
     "output_type": "stream",
     "text": [
      "80\n",
      "20\n",
      "50\n"
     ]
    }
   ],
   "source": [
    "x_train, x_test, x_west = 80, 20, 50\n",
    "print(x_train)\n",
    "print(x_test)\n",
    "print( x_west)"
   ]
  },
  {
   "cell_type": "markdown",
   "id": "a4c9aaaa-acfa-455f-9983-dc81a1c32e9c",
   "metadata": {},
   "source": [
    "- #### instead of writing \n",
    "- a = 10\n",
    "- b = 20\n",
    "- c = 30\n",
    "- d = 40\n",
    "\n",
    "- #### we can write a,b,c,d = 10,20,30,40 \n",
    "\n",
    "- print(a)\n",
    "- print(b)\n",
    "- print(c)\n",
    "- print(d)\n",
    "\n",
    "- #### and you will get the out put, you can check below\n",
    "\n"
   ]
  },
  {
   "cell_type": "code",
   "execution_count": 12,
   "id": "a83a7663-80b4-410f-968b-ca070d84fc3c",
   "metadata": {},
   "outputs": [
    {
     "name": "stdout",
     "output_type": "stream",
     "text": [
      "10\n",
      "20\n",
      "30\n",
      "40\n"
     ]
    }
   ],
   "source": [
    "a,b,c,d = 10,20,30,40\n",
    "\n",
    "print(a)\n",
    "print(b)\n",
    "print(c)\n",
    "print(d)"
   ]
  },
  {
   "cell_type": "code",
   "execution_count": 13,
   "id": "43916512-7368-47b7-adfa-ba670d003142",
   "metadata": {},
   "outputs": [
    {
     "name": "stdout",
     "output_type": "stream",
     "text": [
      "10 20 30 40\n"
     ]
    }
   ],
   "source": [
    "a,b,c,d = 10,20,30,40\n",
    "\n",
    "print(a,b,c,d)"
   ]
  },
  {
   "cell_type": "markdown",
   "id": "15eab5fe-7642-49e9-9284-334af163bb0e",
   "metadata": {},
   "source": [
    "- #### we can write print like this also and got the output. "
   ]
  },
  {
   "cell_type": "code",
   "execution_count": 14,
   "id": "a955cf26-e88e-469f-ba1a-60a000ece7c6",
   "metadata": {},
   "outputs": [
    {
     "data": {
      "text/plain": [
       "78"
      ]
     },
     "execution_count": 14,
     "metadata": {},
     "output_type": "execute_result"
    }
   ],
   "source": [
    "aaaaaaaaaaaaaaaaaaaaaaaaaaaaaaaaaaaaaaaaaaaaaaaaaaaaaaaaaaaaaaaaaaaaa =78\n",
    "aaaaaaaaaaaaaaaaaaaaaaaaaaaaaaaaaaaaaaaaaaaaaaaaaaaaaaaaaaaaaaaaaaaaa"
   ]
  },
  {
   "cell_type": "markdown",
   "id": "35e58939-1eee-4a11-b499-99ac8024eb32",
   "metadata": {},
   "source": [
    "- #### Variable name doesnt have any length limit"
   ]
  },
  {
   "cell_type": "code",
   "execution_count": 15,
   "id": "ed6b147e-4e62-40f8-ab8f-f182a4c2a476",
   "metadata": {},
   "outputs": [
    {
     "data": {
      "text/plain": [
       "['False',\n",
       " 'None',\n",
       " 'True',\n",
       " 'and',\n",
       " 'as',\n",
       " 'assert',\n",
       " 'async',\n",
       " 'await',\n",
       " 'break',\n",
       " 'class',\n",
       " 'continue',\n",
       " 'def',\n",
       " 'del',\n",
       " 'elif',\n",
       " 'else',\n",
       " 'except',\n",
       " 'finally',\n",
       " 'for',\n",
       " 'from',\n",
       " 'global',\n",
       " 'if',\n",
       " 'import',\n",
       " 'in',\n",
       " 'is',\n",
       " 'lambda',\n",
       " 'nonlocal',\n",
       " 'not',\n",
       " 'or',\n",
       " 'pass',\n",
       " 'raise',\n",
       " 'return',\n",
       " 'try',\n",
       " 'while',\n",
       " 'with',\n",
       " 'yield']"
      ]
     },
     "execution_count": 15,
     "metadata": {},
     "output_type": "execute_result"
    }
   ],
   "source": [
    "import keyword\n",
    "keyword.kwlist"
   ]
  },
  {
   "cell_type": "code",
   "execution_count": 16,
   "id": "03b2f6f2-0047-4964-bc44-29ad3611417a",
   "metadata": {},
   "outputs": [
    {
     "data": {
      "text/plain": [
       "35"
      ]
     },
     "execution_count": 16,
     "metadata": {},
     "output_type": "execute_result"
    }
   ],
   "source": [
    "len(keyword.kwlist)"
   ]
  },
  {
   "cell_type": "code",
   "execution_count": 17,
   "id": "49c741c9-902b-49cd-ba14-a1ad8be6542a",
   "metadata": {},
   "outputs": [
    {
     "ename": "SyntaxError",
     "evalue": "invalid syntax (3669229664.py, line 1)",
     "output_type": "error",
     "traceback": [
      "\u001b[1;36m  Cell \u001b[1;32mIn[17], line 1\u001b[1;36m\u001b[0m\n\u001b[1;33m    There are total 35 keywords\u001b[0m\n\u001b[1;37m          ^\u001b[0m\n\u001b[1;31mSyntaxError\u001b[0m\u001b[1;31m:\u001b[0m invalid syntax\n"
     ]
    }
   ],
   "source": [
    "There are total 35 keywords"
   ]
  },
  {
   "cell_type": "code",
   "execution_count": 18,
   "id": "04ff1ce5-2792-4daf-ba0e-4fb8fb9c338d",
   "metadata": {},
   "outputs": [
    {
     "ename": "SyntaxError",
     "evalue": "invalid syntax (3968842992.py, line 1)",
     "output_type": "error",
     "traceback": [
      "\u001b[1;36m  Cell \u001b[1;32mIn[18], line 1\u001b[1;36m\u001b[0m\n\u001b[1;33m    if= 45\u001b[0m\n\u001b[1;37m      ^\u001b[0m\n\u001b[1;31mSyntaxError\u001b[0m\u001b[1;31m:\u001b[0m invalid syntax\n"
     ]
    }
   ],
   "source": [
    "if= 45\n",
    "if"
   ]
  },
  {
   "cell_type": "markdown",
   "id": "d13905b0-0bb8-47e8-9686-3dfc2dd275dd",
   "metadata": {},
   "source": [
    "- #### It is showing error because in Python keywords never been an variable, in the above caode if is an keyword"
   ]
  },
  {
   "cell_type": "markdown",
   "id": "593ad169-7062-4260-9947-9f22bb72e2d5",
   "metadata": {},
   "source": [
    "# Rules & Regualtion to Define PHYTON VARIABLE -->\n"
   ]
  },
  {
   "cell_type": "markdown",
   "id": "1364fde7-25f4-47df-8fe4-123462745fee",
   "metadata": {},
   "source": [
    "- ## Varialbes are case sesitive.\n",
    "- ## Varialbe never start with digit or numeric.\n",
    "- ## Variable never ever have any special characters \n",
    "- ## Only one special character is allowed that is  under score (_)\n",
    " - ## Variable name doesnt have any length limit\n",
    " - ## Python keywords never been an variable\n",
    "\n",
    "# The keywords are called reserved words in phyton"
   ]
  }
 ],
 "metadata": {
  "kernelspec": {
   "display_name": "Python 3 (ipykernel)",
   "language": "python",
   "name": "python3"
  },
  "language_info": {
   "codemirror_mode": {
    "name": "ipython",
    "version": 3
   },
   "file_extension": ".py",
   "mimetype": "text/x-python",
   "name": "python",
   "nbconvert_exporter": "python",
   "pygments_lexer": "ipython3",
   "version": "3.12.4"
  }
 },
 "nbformat": 4,
 "nbformat_minor": 5
}
