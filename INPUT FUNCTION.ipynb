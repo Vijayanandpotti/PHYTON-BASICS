{
 "cells": [
  {
   "cell_type": "markdown",
   "id": "174d6b7c-91c0-4573-8354-6f7b09fec97d",
   "metadata": {},
   "source": [
    "# INPUT FUNCTION"
   ]
  },
  {
   "cell_type": "code",
   "execution_count": 1,
   "id": "ebc90233-bc79-4c67-9fc9-2da26deb3d94",
   "metadata": {},
   "outputs": [
    {
     "name": "stdin",
     "output_type": "stream",
     "text": [
      " 5\n"
     ]
    },
    {
     "data": {
      "text/plain": [
       "'5'"
      ]
     },
     "execution_count": 1,
     "metadata": {},
     "output_type": "execute_result"
    }
   ],
   "source": [
    "x = input()\n",
    "x"
   ]
  },
  {
   "cell_type": "code",
   "execution_count": 2,
   "id": "d1374c93-0c2b-460f-b359-85e23adb93c4",
   "metadata": {},
   "outputs": [
    {
     "name": "stdin",
     "output_type": "stream",
     "text": [
      " hello\n"
     ]
    },
    {
     "data": {
      "text/plain": [
       "'hello'"
      ]
     },
     "execution_count": 2,
     "metadata": {},
     "output_type": "execute_result"
    }
   ],
   "source": [
    "x = input()\n",
    "x"
   ]
  },
  {
   "cell_type": "markdown",
   "id": "20fc92dc-6908-438b-83bc-b6bf67809436",
   "metadata": {},
   "source": [
    "- #### in input function By default the output shows as string datatype"
   ]
  },
  {
   "cell_type": "code",
   "execution_count": 3,
   "id": "4ded2160-f0ba-427d-b801-c540cfa82c6d",
   "metadata": {},
   "outputs": [
    {
     "data": {
      "text/plain": [
       "str"
      ]
     },
     "execution_count": 3,
     "metadata": {},
     "output_type": "execute_result"
    }
   ],
   "source": [
    "type(x)"
   ]
  },
  {
   "cell_type": "code",
   "execution_count": 4,
   "id": "e10ab5ac-9f53-4409-b045-cda4be098ecf",
   "metadata": {},
   "outputs": [
    {
     "name": "stdin",
     "output_type": "stream",
     "text": [
      " 2\n",
      " 3\n"
     ]
    }
   ],
   "source": [
    "x = input()\n",
    "y = input()\n",
    "z = x + y\n",
    "\n",
    "\n",
    "          "
   ]
  },
  {
   "cell_type": "code",
   "execution_count": 5,
   "id": "0afc43a3-d096-41a6-b761-0521badc7529",
   "metadata": {},
   "outputs": [
    {
     "name": "stdout",
     "output_type": "stream",
     "text": [
      "23\n"
     ]
    }
   ],
   "source": [
    "print(z)"
   ]
  },
  {
   "cell_type": "markdown",
   "id": "6753d049-2489-49ef-8cd0-cb979806e622",
   "metadata": {},
   "source": [
    "- #### From the above code we gave to fucntion x and y as 2 and 3\n",
    "- #### calcuation of z is 2 +3 = 5, but the output showing as 23\n",
    "- #### we need use  to type casting to get output as 5"
   ]
  },
  {
   "cell_type": "code",
   "execution_count": 6,
   "id": "6a86f90e-4463-41ce-839c-5d5b0d435581",
   "metadata": {},
   "outputs": [
    {
     "name": "stdin",
     "output_type": "stream",
     "text": [
      "enter the 1st number 2\n",
      "enter the 2nd number 3\n"
     ]
    }
   ],
   "source": [
    "x1 = input('enter the 1st number')\n",
    "y1 = input('enter the 2nd number')\n",
    "z1 = x1 + y1"
   ]
  },
  {
   "cell_type": "code",
   "execution_count": 7,
   "id": "775e5074-f499-4774-9bfa-a784f9c47795",
   "metadata": {},
   "outputs": [
    {
     "name": "stdout",
     "output_type": "stream",
     "text": [
      "23\n"
     ]
    }
   ],
   "source": [
    "print(z1)"
   ]
  },
  {
   "cell_type": "markdown",
   "id": "66d7bc0e-b300-465b-9ad5-e400fc568c83",
   "metadata": {},
   "source": [
    "- #### Still the ouput showing as 23, because still, the inputs are string you can see bleow."
   ]
  },
  {
   "cell_type": "code",
   "execution_count": 8,
   "id": "105d950c-1a4b-493e-ba9b-265bbcbb014e",
   "metadata": {},
   "outputs": [
    {
     "name": "stdout",
     "output_type": "stream",
     "text": [
      "<class 'str'>\n",
      "<class 'str'>\n"
     ]
    }
   ],
   "source": [
    "print(type(x1))\n",
    "print(type(y1))"
   ]
  },
  {
   "cell_type": "code",
   "execution_count": 9,
   "id": "b3171b59-2983-4073-9298-597923bf9c0d",
   "metadata": {},
   "outputs": [
    {
     "name": "stdin",
     "output_type": "stream",
     "text": [
      "enter the 1st number 2\n",
      "enter the 2nd number 3\n"
     ]
    },
    {
     "name": "stdout",
     "output_type": "stream",
     "text": [
      "5\n"
     ]
    }
   ],
   "source": [
    "x1 = input('enter the 1st number') # now we are suing type conversion string to int\n",
    "a1 = int(x1)\n",
    "y1 = input('enter the 2nd number') # now we are suing type conversion string to int\n",
    "b1 = int(y1)\n",
    "z1 = a1 + b1\n",
    "print(z1)"
   ]
  },
  {
   "cell_type": "markdown",
   "id": "81a898e2-496d-4e79-a8ea-7456de8f6957",
   "metadata": {},
   "source": [
    "- #### The output showing a 5 because we have used type conversion as above, but this is too long code, to optimize the code we write it like below"
   ]
  },
  {
   "cell_type": "markdown",
   "id": "71a1b026-2714-4647-95f5-3ab75bc2e2e5",
   "metadata": {},
   "source": [
    "# TYPE CONVERSION TO INTEGER OPTIMISING THE CODE"
   ]
  },
  {
   "cell_type": "code",
   "execution_count": 10,
   "id": "d17249b5-8bb0-425a-b046-7231d8db604e",
   "metadata": {},
   "outputs": [
    {
     "name": "stdin",
     "output_type": "stream",
     "text": [
      "enter the 1st number 2\n",
      "enter the 2nd number 3\n"
     ]
    },
    {
     "name": "stdout",
     "output_type": "stream",
     "text": [
      "5\n"
     ]
    }
   ],
   "source": [
    "x2 = int(input('enter the 1st number')) # now we are suing type conversion string to int\n",
    "y2 = int(input('enter the 2nd number')) # now we are suing type conversion string to int\n",
    "z2 = x2 + y2\n",
    "print(z2)"
   ]
  },
  {
   "cell_type": "markdown",
   "id": "668c2dd1-454c-44af-82b8-21e636634bdb",
   "metadata": {},
   "source": [
    "- #### The above output showingas 5, but we have to optimised code to look short."
   ]
  },
  {
   "cell_type": "code",
   "execution_count": 11,
   "id": "6c46e2d8-7574-42c2-bbc0-0f62a18ae47d",
   "metadata": {},
   "outputs": [
    {
     "name": "stdin",
     "output_type": "stream",
     "text": [
      "enter the 1st number 10\n",
      "enter the 2nd number 20\n"
     ]
    },
    {
     "name": "stdout",
     "output_type": "stream",
     "text": [
      "30\n"
     ]
    }
   ],
   "source": [
    "x2 = int(input('enter the 1st number')) # now we are suing type conversion string to int\n",
    "y2 = int(input('enter the 2nd number')) # now we are suing type conversion string to int\n",
    "z2 = x2 + y2\n",
    "print(z2)"
   ]
  },
  {
   "cell_type": "markdown",
   "id": "b2f2f5b2-ae83-444d-8ffa-afd2bd323170",
   "metadata": {},
   "source": [
    "# CHARACTER and INDEXING"
   ]
  },
  {
   "cell_type": "code",
   "execution_count": 12,
   "id": "fad0d478-cca8-497f-8811-ee86e43d9fc0",
   "metadata": {},
   "outputs": [
    {
     "name": "stdin",
     "output_type": "stream",
     "text": [
      "enter a char hello\n"
     ]
    },
    {
     "name": "stdout",
     "output_type": "stream",
     "text": [
      "hello\n"
     ]
    }
   ],
   "source": [
    "ch = input('enter a char')\n",
    "print(ch)"
   ]
  },
  {
   "cell_type": "code",
   "execution_count": 13,
   "id": "c90fa3a2-65ec-4fc0-8ca5-29d68eb89405",
   "metadata": {},
   "outputs": [
    {
     "name": "stdout",
     "output_type": "stream",
     "text": [
      "h\n"
     ]
    }
   ],
   "source": [
    "print(ch[0]) # 0 index"
   ]
  },
  {
   "cell_type": "code",
   "execution_count": 14,
   "id": "131ca941-e11a-45a5-afa5-01ac2b6c3be9",
   "metadata": {},
   "outputs": [
    {
     "name": "stdout",
     "output_type": "stream",
     "text": [
      "he\n"
     ]
    }
   ],
   "source": [
    "print(ch[0:2]) # 0th index to 2nd index"
   ]
  },
  {
   "cell_type": "code",
   "execution_count": 15,
   "id": "05697a38-bda3-4aa3-a2fa-f7e0b669b974",
   "metadata": {},
   "outputs": [
    {
     "name": "stdout",
     "output_type": "stream",
     "text": [
      "e\n"
     ]
    }
   ],
   "source": [
    "print(ch[1]) "
   ]
  },
  {
   "cell_type": "code",
   "execution_count": 16,
   "id": "7d1e1a1d-9bd3-4a28-a45b-3f44a540f56b",
   "metadata": {},
   "outputs": [
    {
     "name": "stdout",
     "output_type": "stream",
     "text": [
      "o\n"
     ]
    }
   ],
   "source": [
    "print(ch[-1])"
   ]
  },
  {
   "cell_type": "markdown",
   "id": "f6bec30d-cd7a-4ff0-abb4-f665151a6efa",
   "metadata": {},
   "source": [
    "# CHARACTER and INDEXING OPTIMISING THE CODE "
   ]
  },
  {
   "cell_type": "code",
   "execution_count": 17,
   "id": "49907027-c5bd-470b-8280-2ad5f238ce78",
   "metadata": {},
   "outputs": [
    {
     "name": "stdin",
     "output_type": "stream",
     "text": [
      "enter a char h\n"
     ]
    },
    {
     "name": "stdout",
     "output_type": "stream",
     "text": [
      "h\n"
     ]
    }
   ],
   "source": [
    "ch = input('enter a char')[0]\n",
    "print(ch)"
   ]
  },
  {
   "cell_type": "code",
   "execution_count": 18,
   "id": "216cd466-685f-4180-a4ce-c87de9b9ab34",
   "metadata": {},
   "outputs": [
    {
     "name": "stdin",
     "output_type": "stream",
     "text": [
      "enter a char hello\n"
     ]
    },
    {
     "name": "stdout",
     "output_type": "stream",
     "text": [
      "l\n"
     ]
    }
   ],
   "source": [
    "ch = input('enter a char')[3]\n",
    "print(ch)"
   ]
  },
  {
   "cell_type": "markdown",
   "id": "9e6559f1-66a1-444d-8a44-3b92f60ba4eb",
   "metadata": {},
   "source": [
    "# ENTER AN EXPRESSION \n",
    "# eval function"
   ]
  },
  {
   "cell_type": "code",
   "execution_count": 19,
   "id": "dcd8b0e9-acfb-461e-a1e1-4ad8b198890b",
   "metadata": {},
   "outputs": [
    {
     "name": "stdin",
     "output_type": "stream",
     "text": [
      "enter an expr 10+2\n"
     ]
    },
    {
     "name": "stdout",
     "output_type": "stream",
     "text": [
      "10+2\n"
     ]
    }
   ],
   "source": [
    "r = input('enter an expr')\n",
    "print(r)"
   ]
  },
  {
   "cell_type": "code",
   "execution_count": 20,
   "id": "030c0e9b-d0bd-4845-b640-075f11c3e4f2",
   "metadata": {},
   "outputs": [
    {
     "name": "stdout",
     "output_type": "stream",
     "text": [
      "<class 'str'>\n"
     ]
    }
   ],
   "source": [
    "print(type(r))"
   ]
  },
  {
   "cell_type": "markdown",
   "id": "a2d9725f-b136-4c8a-8d91-81ff4aa57dfe",
   "metadata": {},
   "source": [
    "- ####  The above output shows string, but we need value\n",
    "- ####  we use eval function to get the result "
   ]
  },
  {
   "cell_type": "code",
   "execution_count": 21,
   "id": "8c149b4c-64ad-410e-99b0-798adff2b263",
   "metadata": {},
   "outputs": [
    {
     "name": "stdin",
     "output_type": "stream",
     "text": [
      "enter an expr 10+2\n"
     ]
    },
    {
     "name": "stdout",
     "output_type": "stream",
     "text": [
      "12\n"
     ]
    }
   ],
   "source": [
    "r = eval(input('enter an expr'))\n",
    "print(r)"
   ]
  }
 ],
 "metadata": {
  "kernelspec": {
   "display_name": "Python 3 (ipykernel)",
   "language": "python",
   "name": "python3"
  },
  "language_info": {
   "codemirror_mode": {
    "name": "ipython",
    "version": 3
   },
   "file_extension": ".py",
   "mimetype": "text/x-python",
   "name": "python",
   "nbconvert_exporter": "python",
   "pygments_lexer": "ipython3",
   "version": "3.12.4"
  }
 },
 "nbformat": 4,
 "nbformat_minor": 5
}
