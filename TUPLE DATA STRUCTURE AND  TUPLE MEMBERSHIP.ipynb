{
 "cells": [
  {
   "cell_type": "markdown",
   "id": "b1c475ad-e858-4552-bc26-0f377134db2c",
   "metadata": {},
   "source": [
    "\n",
    "# TUPLE DATA STRUCUTRE"
   ]
  },
  {
   "cell_type": "markdown",
   "id": "033ceceb-af23-4c2a-847a-52c59da11685",
   "metadata": {},
   "source": [
    "- ### TUPLE Data structure is always defined with square backets () OPEN BRACKETS\n",
    "- ### TUPLE has only two functions\n",
    "- ### TUPLE is immutable 0r unhashable or unchangable\n",
    "- ### TUPLE allows duplicate of elements"
   ]
  },
  {
   "cell_type": "code",
   "execution_count": 1,
   "id": "b5dd77e8-f736-4855-9f56-e52081b05b85",
   "metadata": {},
   "outputs": [
    {
     "data": {
      "text/plain": [
       "()"
      ]
     },
     "execution_count": 1,
     "metadata": {},
     "output_type": "execute_result"
    }
   ],
   "source": [
    "t =()\n",
    "t"
   ]
  },
  {
   "cell_type": "code",
   "execution_count": 2,
   "id": "cad54ddf-dfa1-45d9-8744-5f3a3193cac3",
   "metadata": {},
   "outputs": [
    {
     "data": {
      "text/plain": [
       "tuple"
      ]
     },
     "execution_count": 2,
     "metadata": {},
     "output_type": "execute_result"
    }
   ],
   "source": [
    "type(t)"
   ]
  },
  {
   "cell_type": "code",
   "execution_count": 3,
   "id": "1ddb014f-83f4-41b5-877f-6f7644f196b0",
   "metadata": {},
   "outputs": [
    {
     "data": {
      "text/plain": [
       "(10, 10, 20, 30)"
      ]
     },
     "execution_count": 3,
     "metadata": {},
     "output_type": "execute_result"
    }
   ],
   "source": [
    "t=(10,10,20,30)\n",
    "t"
   ]
  },
  {
   "cell_type": "markdown",
   "id": "42d20209-1285-4c9b-b6f6-882938152b77",
   "metadata": {},
   "source": [
    "### `COUNT FUNCTION`"
   ]
  },
  {
   "cell_type": "code",
   "execution_count": 4,
   "id": "26bb2ccd-2615-4d82-a90e-b34e1ae8b9d4",
   "metadata": {},
   "outputs": [
    {
     "data": {
      "text/plain": [
       "2"
      ]
     },
     "execution_count": 4,
     "metadata": {},
     "output_type": "execute_result"
    }
   ],
   "source": [
    "t.count(10)\n",
    "\n"
   ]
  },
  {
   "cell_type": "code",
   "execution_count": 5,
   "id": "a5f58673-2e09-4cd0-9d39-8b617f642713",
   "metadata": {},
   "outputs": [
    {
     "data": {
      "text/plain": [
       "2"
      ]
     },
     "execution_count": 5,
     "metadata": {},
     "output_type": "execute_result"
    }
   ],
   "source": [
    "t.index(20)"
   ]
  },
  {
   "cell_type": "markdown",
   "id": "784c17f0-8a4c-4d42-adc7-f20174056faf",
   "metadata": {},
   "source": [
    "- #### tuple has only two fucntion as you can see above, apart from this there are no other functions are allowed  like LIST DATA STRCUTURE.\n",
    "\n",
    "- #### tuple allows all the data types like integer,float,string,compex boolean, you can see below\n"
   ]
  },
  {
   "cell_type": "code",
   "execution_count": 6,
   "id": "cc061940-029c-4420-8143-e345294b6909",
   "metadata": {},
   "outputs": [
    {
     "data": {
      "text/plain": [
       "(20, 2.3, 'nit', (1+2j), True)"
      ]
     },
     "execution_count": 6,
     "metadata": {},
     "output_type": "execute_result"
    }
   ],
   "source": [
    "t1= (20, 2.3, 'nit', 1+2j, True)\n",
    "t1"
   ]
  },
  {
   "cell_type": "code",
   "execution_count": 7,
   "id": "9c99cec4-2d82-4d85-971b-2e6ead1a6b05",
   "metadata": {},
   "outputs": [
    {
     "data": {
      "text/plain": [
       "1"
      ]
     },
     "execution_count": 7,
     "metadata": {},
     "output_type": "execute_result"
    }
   ],
   "source": [
    "t1.count(20)"
   ]
  },
  {
   "cell_type": "code",
   "execution_count": 8,
   "id": "e57c5a27-e5a9-4289-9c55-13136c4444e1",
   "metadata": {},
   "outputs": [
    {
     "data": {
      "text/plain": [
       "4"
      ]
     },
     "execution_count": 8,
     "metadata": {},
     "output_type": "execute_result"
    }
   ],
   "source": [
    "t1.index(True)"
   ]
  },
  {
   "cell_type": "code",
   "execution_count": 9,
   "id": "121cb322-e16f-4391-87ea-ed5485a9a572",
   "metadata": {},
   "outputs": [
    {
     "data": {
      "text/plain": [
       "(20, 2.3, 'nit', (1+2j), True)"
      ]
     },
     "execution_count": 9,
     "metadata": {},
     "output_type": "execute_result"
    }
   ],
   "source": [
    "t1"
   ]
  },
  {
   "cell_type": "code",
   "execution_count": 10,
   "id": "816e45bd-cb8d-402f-8083-214d36316a82",
   "metadata": {},
   "outputs": [
    {
     "name": "stdout",
     "output_type": "stream",
     "text": [
      "20\n",
      "2.3\n",
      "nit\n",
      "(1+2j)\n",
      "True\n"
     ]
    }
   ],
   "source": [
    "for i in t1:\n",
    "    print(i)  # this is code for loop"
   ]
  },
  {
   "cell_type": "code",
   "execution_count": 11,
   "id": "ca51c36a-543d-4083-ae42-65bd0a311dc5",
   "metadata": {},
   "outputs": [
    {
     "name": "stdout",
     "output_type": "stream",
     "text": [
      "(0, 20)\n",
      "(1, 2.3)\n",
      "(2, 'nit')\n",
      "(3, (1+2j))\n",
      "(4, True)\n"
     ]
    }
   ],
   "source": [
    "for i in enumerate(t1):\n",
    "    print(i)"
   ]
  },
  {
   "cell_type": "code",
   "execution_count": 12,
   "id": "7a95b400-9256-4eb5-b311-e604c117e896",
   "metadata": {},
   "outputs": [
    {
     "data": {
      "text/plain": [
       "(20, 2.3, 'nit', (1+2j), True)"
      ]
     },
     "execution_count": 12,
     "metadata": {},
     "output_type": "execute_result"
    }
   ],
   "source": [
    "t1"
   ]
  },
  {
   "cell_type": "code",
   "execution_count": 13,
   "id": "bb466428-384e-4a49-852a-8cc7a1bad83e",
   "metadata": {},
   "outputs": [
    {
     "data": {
      "text/plain": [
       "(20, 2.3, 'nit', (1+2j))"
      ]
     },
     "execution_count": 13,
     "metadata": {},
     "output_type": "execute_result"
    }
   ],
   "source": [
    "t1[:4]"
   ]
  },
  {
   "cell_type": "markdown",
   "id": "982543ad-1c34-4d5a-80f9-3caebf625d73",
   "metadata": {},
   "source": [
    "- #### In tuple slicing is allowed "
   ]
  },
  {
   "cell_type": "code",
   "execution_count": 14,
   "id": "a97ff60c-f735-48f8-bb22-352706a66826",
   "metadata": {},
   "outputs": [
    {
     "data": {
      "text/plain": [
       "(10, 10, 20, 30)"
      ]
     },
     "execution_count": 14,
     "metadata": {},
     "output_type": "execute_result"
    }
   ],
   "source": [
    "t"
   ]
  },
  {
   "cell_type": "code",
   "execution_count": 15,
   "id": "09519ea5-410f-4d09-b720-e9aa711dc5f1",
   "metadata": {},
   "outputs": [
    {
     "data": {
      "text/plain": [
       "(10, 10, 20, 30, 10, 10, 20, 30, 10, 10, 20, 30, 10, 10, 20, 30)"
      ]
     },
     "execution_count": 15,
     "metadata": {},
     "output_type": "execute_result"
    }
   ],
   "source": [
    "t2 = t * 4\n",
    "t2"
   ]
  },
  {
   "cell_type": "markdown",
   "id": "3322353b-f0c3-4b50-b9f3-c12ac7120155",
   "metadata": {},
   "source": [
    "- #### The above output showing t elements 4 times, beaucse of the code we entered\n",
    "- ####  it does not mutiply the elements it only display duplicates like above"
   ]
  },
  {
   "cell_type": "code",
   "execution_count": 16,
   "id": "964a1e1d-d7fa-4bc4-be6a-4a4699c984f8",
   "metadata": {},
   "outputs": [
    {
     "data": {
      "text/plain": [
       "(20, 2.3, 'nit', (1+2j), True)"
      ]
     },
     "execution_count": 16,
     "metadata": {},
     "output_type": "execute_result"
    }
   ],
   "source": [
    "t1"
   ]
  },
  {
   "cell_type": "code",
   "execution_count": 17,
   "id": "5677b76c-859b-4ef9-897a-c3efb1785694",
   "metadata": {},
   "outputs": [
    {
     "data": {
      "text/plain": [
       "(20, 2.3, 'nit', (1+2j), True, 20, 2.3, 'nit', (1+2j), True)"
      ]
     },
     "execution_count": 17,
     "metadata": {},
     "output_type": "execute_result"
    }
   ],
   "source": [
    "t5=t1*2\n",
    "t5"
   ]
  },
  {
   "cell_type": "code",
   "execution_count": 18,
   "id": "9161dab6-b5c5-4de5-941d-487a01b75b61",
   "metadata": {},
   "outputs": [
    {
     "data": {
      "text/plain": [
       "(10, 10, 20, 30)"
      ]
     },
     "execution_count": 18,
     "metadata": {},
     "output_type": "execute_result"
    }
   ],
   "source": [
    "t"
   ]
  },
  {
   "cell_type": "code",
   "execution_count": 19,
   "id": "9a2a43bc-1aa2-43b1-b336-fddba2376fd6",
   "metadata": {},
   "outputs": [
    {
     "data": {
      "text/plain": [
       "(20, 2.3, 'nit', (1+2j), True)"
      ]
     },
     "execution_count": 19,
     "metadata": {},
     "output_type": "execute_result"
    }
   ],
   "source": [
    "t1"
   ]
  },
  {
   "cell_type": "code",
   "execution_count": 20,
   "id": "6b638609-d406-4c60-bb26-750fd5b705d2",
   "metadata": {},
   "outputs": [
    {
     "data": {
      "text/plain": [
       "(10, 10, 20, 30, 10, 10, 20, 30, 10, 10, 20, 30, 10, 10, 20, 30)"
      ]
     },
     "execution_count": 20,
     "metadata": {},
     "output_type": "execute_result"
    }
   ],
   "source": [
    "t2"
   ]
  },
  {
   "cell_type": "code",
   "execution_count": 21,
   "id": "f76ae5a1-ae27-4f58-a458-11e66a7b03e2",
   "metadata": {},
   "outputs": [
    {
     "data": {
      "text/plain": [
       "(20, 2.3, 'nit', (1+2j), True, 20, 2.3, 'nit', (1+2j), True)"
      ]
     },
     "execution_count": 21,
     "metadata": {},
     "output_type": "execute_result"
    }
   ],
   "source": [
    "t5"
   ]
  },
  {
   "cell_type": "code",
   "execution_count": 22,
   "id": "d979b372-3719-444a-bf32-c073c98f7018",
   "metadata": {},
   "outputs": [
    {
     "name": "stdout",
     "output_type": "stream",
     "text": [
      "2310753079744\n",
      "2310752866832\n",
      "2310747286592\n",
      "2310753001152\n"
     ]
    }
   ],
   "source": [
    "print(id(t))\n",
    "print(id(t1))\n",
    "print(id(t2))\n",
    "print(id(t5))\n"
   ]
  },
  {
   "cell_type": "markdown",
   "id": "1b174074-1527-4592-b7ca-b1b404711c2e",
   "metadata": {},
   "source": [
    "- #### The above output show thwe address of  memory location of the specified variables\n",
    "- #### we use  fucnction id"
   ]
  },
  {
   "cell_type": "markdown",
   "id": "5b0fae46-a2c5-4872-b1e9-750d93352de6",
   "metadata": {},
   "source": [
    "# TUPLE MEMBERSHIP"
   ]
  },
  {
   "cell_type": "code",
   "execution_count": 23,
   "id": "c5b8ffb3-85c3-4166-be8b-7dd1d311a5c3",
   "metadata": {},
   "outputs": [
    {
     "data": {
      "text/plain": [
       "('one', 'two', 'three', 'four', 'five', 'six', 'seven', 'eight')"
      ]
     },
     "execution_count": 23,
     "metadata": {},
     "output_type": "execute_result"
    }
   ],
   "source": [
    "mytuple = ('one','two','three','four','five','six','seven','eight')\n",
    "mytuple"
   ]
  },
  {
   "cell_type": "code",
   "execution_count": 24,
   "id": "5d530975-73f1-4fef-be1c-79f3bbc25a92",
   "metadata": {},
   "outputs": [
    {
     "data": {
      "text/plain": [
       "True"
      ]
     },
     "execution_count": 24,
     "metadata": {},
     "output_type": "execute_result"
    }
   ],
   "source": [
    "'one' in mytuple #  this is to check element is present or not\n",
    "                 # if presnt 'True' or 'False'"
   ]
  },
  {
   "cell_type": "code",
   "execution_count": 25,
   "id": "4fa3e43b-c545-421c-9448-91cafb2b9992",
   "metadata": {},
   "outputs": [
    {
     "data": {
      "text/plain": [
       "False"
      ]
     },
     "execution_count": 25,
     "metadata": {},
     "output_type": "execute_result"
    }
   ],
   "source": [
    "'ten' in mytuple #  'ten'is not present  in the lsit that is why false "
   ]
  },
  {
   "cell_type": "code",
   "execution_count": 26,
   "id": "7f4adeda-26ef-4bbd-a7f9-ae1e7c18f7d3",
   "metadata": {},
   "outputs": [
    {
     "name": "stdout",
     "output_type": "stream",
     "text": [
      "Three is present in the tuple\n"
     ]
    }
   ],
   "source": [
    "if 'three' in mytuple:\n",
    "    print('Three is present in the tuple')\n",
    "\n",
    "else:\n",
    "    print('Three is not present in the tuple')\n",
    "\n"
   ]
  },
  {
   "cell_type": "code",
   "execution_count": 27,
   "id": "147e95d0-02c9-4433-add4-1acb84036b13",
   "metadata": {},
   "outputs": [
    {
     "name": "stdout",
     "output_type": "stream",
     "text": [
      "eleven is not present in the tuple\n"
     ]
    }
   ],
   "source": [
    "if 'eleven' in mytuple:\n",
    "    print('eleven is present in the tuple')\n",
    "\n",
    "else:\n",
    "    print('eleven is not present in the tuple')\n"
   ]
  },
  {
   "cell_type": "markdown",
   "id": "76e56689-ca9c-4bea-b0ae-5921fbdc2c95",
   "metadata": {},
   "source": [
    "# INFORMATION  TO KNOW"
   ]
  },
  {
   "cell_type": "markdown",
   "id": "aebda9c7-4e78-4304-a48e-7e6a82e10a7d",
   "metadata": {},
   "source": [
    "### IDE (Integrated Development Environment), the tool what we are using to write the code, run the code, bebug the code (Jupyter)\n",
    "\n",
    "  - IDE'S ARE: jupyter, pycharm, vs code, spyder\n",
    "\n",
    "### PYTHON INTERPRETER: run the code or execute the code line by line.\n",
    "\n",
    "###  PYTHON COMPLIER: execute entire code at once.\n",
    "\n",
    "### PYTHON CONSTRCTOR: will tells us how much space is  required for defined varaibeles in memory  \n",
    "   - we can call it as `__init__  (two underscores)`\n",
    "\n",
    "#### PYTHON SPECIAL CONCEPT: there are two special concepts: \n",
    "   - 1. `__name__`\n",
    "   - 2. `__init__`"
   ]
  }
 ],
 "metadata": {
  "kernelspec": {
   "display_name": "Python 3 (ipykernel)",
   "language": "python",
   "name": "python3"
  },
  "language_info": {
   "codemirror_mode": {
    "name": "ipython",
    "version": 3
   },
   "file_extension": ".py",
   "mimetype": "text/x-python",
   "name": "python",
   "nbconvert_exporter": "python",
   "pygments_lexer": "ipython3",
   "version": "3.12.4"
  }
 },
 "nbformat": 4,
 "nbformat_minor": 5
}
