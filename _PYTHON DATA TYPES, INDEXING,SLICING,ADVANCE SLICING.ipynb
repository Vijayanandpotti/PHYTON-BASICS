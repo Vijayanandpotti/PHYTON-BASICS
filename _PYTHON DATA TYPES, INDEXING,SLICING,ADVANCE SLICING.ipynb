{
 "cells": [
  {
   "cell_type": "markdown",
   "id": "cb4b1eb5-c70b-4590-aed2-3ffb71975dfe",
   "metadata": {},
   "source": [
    "# `PHYTON DATA TYPE`\n"
   ]
  },
  {
   "cell_type": "markdown",
   "id": "6a5df17a-6eb8-4206-b6ec-ba4d5bb338bb",
   "metadata": {},
   "source": [
    "## varialbe name = value (this is synatax)"
   ]
  },
  {
   "cell_type": "markdown",
   "id": "c03d21c0-0904-49c1-8965-e3d090ec836f",
   "metadata": {},
   "source": [
    "## value have data types as below   || `PHYTON DATA TYPES` ||"
   ]
  },
  {
   "cell_type": "markdown",
   "id": "6eb5d490-f327-4ad9-90c5-61d9cb9da07a",
   "metadata": {},
   "source": [
    "- #### INTEGER    :The value without decimal like ( 100,560,999,)"
   ]
  },
  {
   "cell_type": "markdown",
   "id": "31538b6d-b90a-4bae-ad84-c4007b0fdb07",
   "metadata": {},
   "source": [
    "- #### FLOAT      :value with decmial like (58.64, 89.52, 100.56)"
   ]
  },
  {
   "cell_type": "markdown",
   "id": "f7eb7445-7461-41db-9764-de5d95dac46f",
   "metadata": {},
   "source": [
    "- #### BOOLEAN    :True or False"
   ]
  },
  {
   "cell_type": "markdown",
   "id": "50f3fb5d-2f06-4e01-bd6e-edcf80390b1c",
   "metadata": {},
   "source": [
    "- #### COMPLEX    :( a+bj) where a mean real and b means inaginary and j means square root of -1"
   ]
  },
  {
   "cell_type": "markdown",
   "id": "55659ef3-0bfe-4db7-9dba-4af9d9992d47",
   "metadata": {},
   "source": [
    "- #### STRING     : Always enter in single , double or multile quotes ('NIT'  or  ''NIT''  or   '''NIT''')"
   ]
  },
  {
   "cell_type": "markdown",
   "id": "53d94f22-a313-4227-91a6-257163c0c6c2",
   "metadata": {},
   "source": [
    "# INTEGER DATA TYPE"
   ]
  },
  {
   "cell_type": "code",
   "execution_count": 1,
   "id": "c417a386-353c-4f6f-a5c3-f4addaf36c64",
   "metadata": {},
   "outputs": [
    {
     "data": {
      "text/plain": [
       "30"
      ]
     },
     "execution_count": 1,
     "metadata": {},
     "output_type": "execute_result"
    }
   ],
   "source": [
    "i = 30\n",
    "i"
   ]
  },
  {
   "cell_type": "code",
   "execution_count": 2,
   "id": "5dcd2b5c-1cb4-4146-98d3-6209af87593f",
   "metadata": {},
   "outputs": [
    {
     "data": {
      "text/plain": [
       "int"
      ]
     },
     "execution_count": 2,
     "metadata": {},
     "output_type": "execute_result"
    }
   ],
   "source": [
    "type(i)"
   ]
  },
  {
   "cell_type": "markdown",
   "id": "e6e22447-d6d5-49d0-b53b-c4d1e9b4fc47",
   "metadata": {},
   "source": [
    "- The type function is used for to know the type of data type. "
   ]
  },
  {
   "cell_type": "markdown",
   "id": "2374942c-3754-4655-b1d2-ba2bd6fa3484",
   "metadata": {},
   "source": [
    "-  we can call it as interger data type or integer value."
   ]
  },
  {
   "cell_type": "markdown",
   "id": "adcb8b05-bc40-49a4-baaa-f570d9282172",
   "metadata": {},
   "source": [
    "- Integer will never have decimal value."
   ]
  },
  {
   "cell_type": "markdown",
   "id": "64221f57-e3e3-4c71-aa2c-5b9ff3258706",
   "metadata": {},
   "source": [
    "- and we can aslo like write as below."
   ]
  },
  {
   "cell_type": "code",
   "execution_count": 3,
   "id": "ce13a8fe-7396-4024-b88a-2e1070bbf74c",
   "metadata": {},
   "outputs": [
    {
     "name": "stdout",
     "output_type": "stream",
     "text": [
      "<class 'int'>\n"
     ]
    }
   ],
   "source": [
    "print(type(i))"
   ]
  },
  {
   "cell_type": "code",
   "execution_count": 4,
   "id": "8669d676-66c3-4c3c-b79a-3c106f3757ca",
   "metadata": {},
   "outputs": [
    {
     "data": {
      "text/plain": [
       "(10, 20, 30)"
      ]
     },
     "execution_count": 4,
     "metadata": {},
     "output_type": "execute_result"
    }
   ],
   "source": [
    "a,b,c = 10,20,30\n",
    "a,b ,c"
   ]
  },
  {
   "cell_type": "code",
   "execution_count": 5,
   "id": "9a1f5e90-b65c-44e7-9dd2-da99a9b881f2",
   "metadata": {},
   "outputs": [
    {
     "data": {
      "text/plain": [
       "30"
      ]
     },
     "execution_count": 5,
     "metadata": {},
     "output_type": "execute_result"
    }
   ],
   "source": [
    "i \n"
   ]
  },
  {
   "cell_type": "code",
   "execution_count": 6,
   "id": "847d7c7f-067e-4abe-85d3-c7c14564fbec",
   "metadata": {},
   "outputs": [
    {
     "data": {
      "text/plain": [
       "80"
      ]
     },
     "execution_count": 6,
     "metadata": {},
     "output_type": "execute_result"
    }
   ],
   "source": [
    "i,i1, i2 =30,  20, 30\n",
    "i + i1 + i2"
   ]
  },
  {
   "cell_type": "code",
   "execution_count": 7,
   "id": "a0afd261-3052-4ee6-93c3-160118873250",
   "metadata": {},
   "outputs": [
    {
     "data": {
      "text/plain": [
       "20"
      ]
     },
     "execution_count": 7,
     "metadata": {},
     "output_type": "execute_result"
    }
   ],
   "source": [
    "i - i2+ i1"
   ]
  },
  {
   "cell_type": "code",
   "execution_count": 8,
   "id": "734b7707-7261-494a-bfd8-ff73d4c39d42",
   "metadata": {},
   "outputs": [
    {
     "data": {
      "text/plain": [
       "-20"
      ]
     },
     "execution_count": 8,
     "metadata": {},
     "output_type": "execute_result"
    }
   ],
   "source": [
    "i - (i2+ i1)"
   ]
  },
  {
   "cell_type": "markdown",
   "id": "55198bd7-e963-4fc2-92f6-0bdea6bf016e",
   "metadata": {},
   "source": [
    "- ####  In the above case `BODMAS` rule is applied "
   ]
  },
  {
   "cell_type": "markdown",
   "id": "fd442314-6353-4179-9bab-3d95888932ea",
   "metadata": {},
   "source": [
    "# FLOAT DATA TYPE"
   ]
  },
  {
   "cell_type": "markdown",
   "id": "d28721ca-fbfb-4295-8063-2091869f1442",
   "metadata": {},
   "source": [
    "- #### Float division will always have decimal value"
   ]
  },
  {
   "cell_type": "code",
   "execution_count": 9,
   "id": "964e2366-375e-4fdc-b974-d00a4475edb6",
   "metadata": {},
   "outputs": [
    {
     "data": {
      "text/plain": [
       "110.23"
      ]
     },
     "execution_count": 9,
     "metadata": {},
     "output_type": "execute_result"
    }
   ],
   "source": [
    "f = 110.23\n",
    "f"
   ]
  },
  {
   "cell_type": "code",
   "execution_count": 10,
   "id": "c2783b9b-53e9-409e-ba7b-dcbb9328ff4c",
   "metadata": {},
   "outputs": [
    {
     "data": {
      "text/plain": [
       "float"
      ]
     },
     "execution_count": 10,
     "metadata": {},
     "output_type": "execute_result"
    }
   ],
   "source": [
    "type (f)"
   ]
  },
  {
   "cell_type": "code",
   "execution_count": 11,
   "id": "3b3a8040-da01-4e64-a056-b4874afed43d",
   "metadata": {},
   "outputs": [
    {
     "data": {
      "text/plain": [
       "(110.23, 2.3, 3.4, 5.1)"
      ]
     },
     "execution_count": 11,
     "metadata": {},
     "output_type": "execute_result"
    }
   ],
   "source": [
    "f, f1 , f2, f3 = 110.23, 2.3, 3.4, 5.1\n",
    "f,f1, f2,f3"
   ]
  },
  {
   "cell_type": "code",
   "execution_count": 12,
   "id": "7e76809e-b20c-4272-a89d-c5be49b494c2",
   "metadata": {},
   "outputs": [
    {
     "name": "stdout",
     "output_type": "stream",
     "text": [
      "110.23 2.3 3.4 5.1\n"
     ]
    }
   ],
   "source": [
    "print (f,f1, f2, f3)"
   ]
  },
  {
   "cell_type": "markdown",
   "id": "59ebe53c-2644-4fab-982c-3774423d1f46",
   "metadata": {},
   "source": [
    "- #### if you want output `IN LINE WISE`  write the code in above pattern"
   ]
  },
  {
   "cell_type": "code",
   "execution_count": 13,
   "id": "1eb58066-aebb-435d-9f63-4eaf88d4e685",
   "metadata": {},
   "outputs": [
    {
     "name": "stdout",
     "output_type": "stream",
     "text": [
      "110.23\n",
      "2.3\n",
      "3.4\n",
      "5.1\n"
     ]
    }
   ],
   "source": [
    "print(f)\n",
    "print (f1)\n",
    "print (f2)\n",
    "print (f3)"
   ]
  },
  {
   "cell_type": "markdown",
   "id": "1e0cda84-5fec-4264-9d36-248b975e96d0",
   "metadata": {},
   "source": [
    "- ####  If you want output IN `ROW WISE ` write the code in above pattern"
   ]
  },
  {
   "cell_type": "code",
   "execution_count": 14,
   "id": "4b388b6f-08e8-410e-b9a8-7df26a030eac",
   "metadata": {},
   "outputs": [
    {
     "data": {
      "text/plain": [
       "1.0"
      ]
     },
     "execution_count": 14,
     "metadata": {},
     "output_type": "execute_result"
    }
   ],
   "source": [
    "f1 = 1e0\n",
    "f1"
   ]
  },
  {
   "cell_type": "code",
   "execution_count": 15,
   "id": "e1ddbceb-0354-4b5f-8a38-40ff9648710d",
   "metadata": {},
   "outputs": [
    {
     "data": {
      "text/plain": [
       "20.0"
      ]
     },
     "execution_count": 15,
     "metadata": {},
     "output_type": "execute_result"
    }
   ],
   "source": [
    "f2 = 2e1\n",
    "f2"
   ]
  },
  {
   "cell_type": "code",
   "execution_count": 16,
   "id": "548b36e1-d053-4302-9ec2-4077d56528f7",
   "metadata": {},
   "outputs": [
    {
     "data": {
      "text/plain": [
       "300.0"
      ]
     },
     "execution_count": 16,
     "metadata": {},
     "output_type": "execute_result"
    }
   ],
   "source": [
    "f3 = 3e2\n",
    "f3"
   ]
  },
  {
   "cell_type": "code",
   "execution_count": 17,
   "id": "9a2a91e3-60ac-4fd5-bc18-ca71611eaff9",
   "metadata": {},
   "outputs": [
    {
     "data": {
      "text/plain": [
       "3000.0"
      ]
     },
     "execution_count": 17,
     "metadata": {},
     "output_type": "execute_result"
    }
   ],
   "source": [
    "f4= 3e3\n",
    "f4"
   ]
  },
  {
   "cell_type": "markdown",
   "id": "d82274a2-69f5-4bd1-ba83-3d9feda9fea6",
   "metadata": {},
   "source": [
    "#### In Mathamatics exponent (e to the power of zero is one ) "
   ]
  },
  {
   "cell_type": "markdown",
   "id": "494b479f-d8c2-4c87-a6c3-e8fc5b8c3d0f",
   "metadata": {},
   "source": [
    "- e0 is 1"
   ]
  },
  {
   "cell_type": "markdown",
   "id": "bb6a9f82-182d-4464-91ab-86fc796b35df",
   "metadata": {},
   "source": [
    "- e1 is 10"
   ]
  },
  {
   "cell_type": "markdown",
   "id": "acf3c934-1481-4071-9cec-e548b801cf52",
   "metadata": {},
   "source": [
    "- e2 is 100"
   ]
  },
  {
   "cell_type": "markdown",
   "id": "c7e628f9-5f8a-4ab3-bf7e-5358fa0380f4",
   "metadata": {},
   "source": [
    "- e3 is 1,000"
   ]
  },
  {
   "cell_type": "markdown",
   "id": "503ec12d-1643-4b43-b360-44e6d0598d61",
   "metadata": {},
   "source": [
    "- e4 is 10,000"
   ]
  },
  {
   "cell_type": "markdown",
   "id": "2be926c8-ce7c-400e-a31a-cebab7167db3",
   "metadata": {},
   "source": [
    "- e5 is 10,00,000 and so on"
   ]
  },
  {
   "cell_type": "markdown",
   "id": "2239715b-34b8-4f0d-bea5-ea951554c6e5",
   "metadata": {},
   "source": [
    "- Only 'e' letter allowed in float "
   ]
  },
  {
   "cell_type": "code",
   "execution_count": 18,
   "id": "d51f25ff-936a-4388-9e19-ddb8e0273a78",
   "metadata": {},
   "outputs": [
    {
     "data": {
      "text/plain": [
       "240.0"
      ]
     },
     "execution_count": 18,
     "metadata": {},
     "output_type": "execute_result"
    }
   ],
   "source": [
    "f5=2.4e2\n",
    "f5"
   ]
  },
  {
   "cell_type": "markdown",
   "id": "3568cc1b-d011-4f82-8774-538ef9832ebf",
   "metadata": {},
   "source": [
    "# BOOL or BOOLEAN DATA TYPE        ||     True or  FALSE"
   ]
  },
  {
   "cell_type": "code",
   "execution_count": 19,
   "id": "b600ef96-793d-463d-bc73-006709abbb2d",
   "metadata": {},
   "outputs": [
    {
     "ename": "NameError",
     "evalue": "name 'true' is not defined",
     "output_type": "error",
     "traceback": [
      "\u001b[1;31m---------------------------------------------------------------------------\u001b[0m",
      "\u001b[1;31mNameError\u001b[0m                                 Traceback (most recent call last)",
      "Cell \u001b[1;32mIn[19], line 1\u001b[0m\n\u001b[1;32m----> 1\u001b[0m b \u001b[38;5;241m=\u001b[39m true\n\u001b[0;32m      2\u001b[0m b\n",
      "\u001b[1;31mNameError\u001b[0m: name 'true' is not defined"
     ]
    }
   ],
   "source": [
    "b = true\n",
    "b"
   ]
  },
  {
   "cell_type": "markdown",
   "id": "fe5a740d-8545-421b-93c5-79a956f69443",
   "metadata": {},
   "source": [
    "- #### It is showing error because, in Python when ever you define true or fasle the first letter should be always 'CAPITAL'\n",
    "\n"
   ]
  },
  {
   "cell_type": "markdown",
   "id": "353e3306-47a8-4f6d-8f1b-ca788f382e67",
   "metadata": {},
   "source": [
    "- we need to enter code as show as below"
   ]
  },
  {
   "cell_type": "code",
   "execution_count": 20,
   "id": "362afa6e-ff82-48d3-84a3-65a1715fc2a9",
   "metadata": {},
   "outputs": [
    {
     "data": {
      "text/plain": [
       "True"
      ]
     },
     "execution_count": 20,
     "metadata": {},
     "output_type": "execute_result"
    }
   ],
   "source": [
    "b = True\n",
    "b"
   ]
  },
  {
   "cell_type": "code",
   "execution_count": 21,
   "id": "686c8eca-6b7f-4281-8079-c3852a47e0d6",
   "metadata": {},
   "outputs": [
    {
     "data": {
      "text/plain": [
       "False"
      ]
     },
     "execution_count": 21,
     "metadata": {},
     "output_type": "execute_result"
    }
   ],
   "source": [
    "b1 = False\n",
    "b1"
   ]
  },
  {
   "cell_type": "code",
   "execution_count": 22,
   "id": "1e909020-f2b4-49b1-8c0b-4dc441862e92",
   "metadata": {},
   "outputs": [
    {
     "name": "stdout",
     "output_type": "stream",
     "text": [
      "True\n",
      "False\n"
     ]
    }
   ],
   "source": [
    "print(b)\n",
    "print(b1)"
   ]
  },
  {
   "cell_type": "code",
   "execution_count": 23,
   "id": "f6534cd6-473d-4868-9553-140ad29b3a89",
   "metadata": {},
   "outputs": [
    {
     "data": {
      "text/plain": [
       "1"
      ]
     },
     "execution_count": 23,
     "metadata": {},
     "output_type": "execute_result"
    }
   ],
   "source": [
    "True + False"
   ]
  },
  {
   "cell_type": "code",
   "execution_count": 24,
   "id": "dccf090b-14b9-436c-8e98-f459da4deb08",
   "metadata": {},
   "outputs": [
    {
     "data": {
      "text/plain": [
       "1"
      ]
     },
     "execution_count": 24,
     "metadata": {},
     "output_type": "execute_result"
    }
   ],
   "source": [
    "True - False"
   ]
  },
  {
   "cell_type": "code",
   "execution_count": 25,
   "id": "b0e1410b-2cd6-4d82-90f8-35a612c8b91b",
   "metadata": {},
   "outputs": [
    {
     "data": {
      "text/plain": [
       "-1"
      ]
     },
     "execution_count": 25,
     "metadata": {},
     "output_type": "execute_result"
    }
   ],
   "source": [
    "False - True"
   ]
  },
  {
   "cell_type": "code",
   "execution_count": 26,
   "id": "8fe6396c-16bb-44db-b8b7-684919470f1c",
   "metadata": {},
   "outputs": [
    {
     "data": {
      "text/plain": [
       "2"
      ]
     },
     "execution_count": 26,
     "metadata": {},
     "output_type": "execute_result"
    }
   ],
   "source": [
    "True + True + True + False - True "
   ]
  },
  {
   "cell_type": "code",
   "execution_count": 27,
   "id": "283bf6ad-54fd-4d9e-8e90-b8cf4fd448de",
   "metadata": {},
   "outputs": [
    {
     "data": {
      "text/plain": [
       "0"
      ]
     },
     "execution_count": 27,
     "metadata": {},
     "output_type": "execute_result"
    }
   ],
   "source": [
    "False * True"
   ]
  },
  {
   "cell_type": "code",
   "execution_count": 28,
   "id": "327e96ea-dafe-4f56-b7f6-baa956af7f09",
   "metadata": {},
   "outputs": [
    {
     "data": {
      "text/plain": [
       "1"
      ]
     },
     "execution_count": 28,
     "metadata": {},
     "output_type": "execute_result"
    }
   ],
   "source": [
    "True * True "
   ]
  },
  {
   "cell_type": "code",
   "execution_count": 29,
   "id": "4dc88186-6b20-4361-964a-4327fb3ecb1b",
   "metadata": {},
   "outputs": [
    {
     "data": {
      "text/plain": [
       "0.0"
      ]
     },
     "execution_count": 29,
     "metadata": {},
     "output_type": "execute_result"
    }
   ],
   "source": [
    "False / True "
   ]
  },
  {
   "cell_type": "markdown",
   "id": "3476f7e0-32f7-4208-988c-30853cd46bf4",
   "metadata": {},
   "source": [
    "#### In the above  codes the out put showing as 1 since there are no digit, because in internal memory True is refered as '1' and False is refered as '0' "
   ]
  },
  {
   "cell_type": "markdown",
   "id": "cfd9722a-d257-43aa-945a-c9c4bfc2797e",
   "metadata": {},
   "source": [
    "-  1 + 0 = 1 (True + False)"
   ]
  },
  {
   "cell_type": "markdown",
   "id": "5874c777-3ab1-4482-b6e1-d05815b7d259",
   "metadata": {},
   "source": [
    "- 1 - 0 = 1 (True - False)"
   ]
  },
  {
   "cell_type": "markdown",
   "id": "8b054fab-e2b8-44fe-a4c0-5ed6e3006a0c",
   "metadata": {},
   "source": [
    "- 0 - 1 = -1 (False - True)"
   ]
  },
  {
   "cell_type": "markdown",
   "id": "6cf10d1d-ce21-4b76-bee6-35bd729b0048",
   "metadata": {},
   "source": [
    "- 1 + 1 + 1 + 0 - 1 = 2 ( True + True + True + False - True )"
   ]
  },
  {
   "cell_type": "markdown",
   "id": "5a4786c1-4222-486f-9b47-2c0ffa70d66d",
   "metadata": {},
   "source": [
    "- 0 * 1 = 0 ( Falae * True ) `'Multiplication'`"
   ]
  },
  {
   "cell_type": "markdown",
   "id": "e1b7f323-5961-4feb-884a-46a626c19c4e",
   "metadata": {},
   "source": [
    "-  1 * 1 = 1 ( True * True) `'Multiplication'`"
   ]
  },
  {
   "cell_type": "markdown",
   "id": "4201032f-b849-485b-bff9-8dd752ea4b76",
   "metadata": {},
   "source": [
    "-  0 / 0 = 0 ( False / True) `'Divison'`"
   ]
  },
  {
   "cell_type": "code",
   "execution_count": 30,
   "id": "659ceb81-5591-4185-ab42-ebac5d05afa2",
   "metadata": {},
   "outputs": [
    {
     "ename": "ZeroDivisionError",
     "evalue": "division by zero",
     "output_type": "error",
     "traceback": [
      "\u001b[1;31m---------------------------------------------------------------------------\u001b[0m",
      "\u001b[1;31mZeroDivisionError\u001b[0m                         Traceback (most recent call last)",
      "Cell \u001b[1;32mIn[30], line 1\u001b[0m\n\u001b[1;32m----> 1\u001b[0m \u001b[38;5;28;01mTrue\u001b[39;00m \u001b[38;5;241m/\u001b[39m \u001b[38;5;28;01mFalse\u001b[39;00m\n",
      "\u001b[1;31mZeroDivisionError\u001b[0m: division by zero"
     ]
    }
   ],
   "source": [
    "True / False "
   ]
  },
  {
   "cell_type": "markdown",
   "id": "c9e52beb-3b3e-4a64-95d4-6ce3309b27b3",
   "metadata": {},
   "source": [
    "####  The above code it is showing as zero division error       "
   ]
  },
  {
   "cell_type": "markdown",
   "id": "e0a03dbe-1a3a-4511-bf36-23d155d9a07f",
   "metadata": {},
   "source": [
    "####  In python there a 3 typres of errors\n",
    "   -   --> Compile time error\n",
    "   -   --> run time error\n",
    " -  --> Zero divison error\n"
   ]
  },
  {
   "cell_type": "markdown",
   "id": "d6f37b5d-4bcb-4069-9c7d-7b5c64a045c6",
   "metadata": {},
   "source": [
    "- ####  Complie time error is: a user whicle writing code some words are missing like, comma, fullstop or Capital letter missing like that. any error happend by user side is called complie time error. It is aslo called as Syntactical error ot Syntax error."
   ]
  },
  {
   "cell_type": "markdown",
   "id": "07dbc89c-3ec2-4a9f-bf0a-50f7c9c08f9f",
   "metadata": {},
   "source": [
    "- ####  Run time error: A computer shows an error, Which is not from user end  but from the system point of view."
   ]
  },
  {
   "cell_type": "markdown",
   "id": "1624bfad-b4eb-471b-bcd4-fca82d860825",
   "metadata": {},
   "source": [
    "- #### Zero division error: No error from user, but system understand the error and will ping the message."
   ]
  },
  {
   "cell_type": "markdown",
   "id": "efe5a386-1941-4433-880e-b71e13ae8c2f",
   "metadata": {},
   "source": [
    "# COMPLEX DATA TYPE"
   ]
  },
  {
   "cell_type": "markdown",
   "id": "a0829148-4290-49d9-86c1-f57e988c19a6",
   "metadata": {},
   "source": [
    "- ##### The fromula for complex is = (a+bj)"
   ]
  },
  {
   "cell_type": "markdown",
   "id": "21084803-277c-483c-b5d5-3d513e393ee6",
   "metadata": {},
   "source": [
    "- ##### a means real part"
   ]
  },
  {
   "cell_type": "markdown",
   "id": "0c364810-92f1-4b72-9631-6d1eea89f0e4",
   "metadata": {},
   "source": [
    "- ##### b means imaginary part"
   ]
  },
  {
   "cell_type": "markdown",
   "id": "6b2ebb8a-793c-41f1-ad3c-fd97eae83be6",
   "metadata": {},
   "source": [
    "- ##### j menas square root of minus one (-1)"
   ]
  },
  {
   "cell_type": "code",
   "execution_count": 31,
   "id": "a2dda705-8497-4f7e-86c7-80459cf120f4",
   "metadata": {},
   "outputs": [
    {
     "data": {
      "text/plain": [
       "(1+20j)"
      ]
     },
     "execution_count": 31,
     "metadata": {},
     "output_type": "execute_result"
    }
   ],
   "source": [
    "c= 1 + 20j\n",
    "c"
   ]
  },
  {
   "cell_type": "code",
   "execution_count": 32,
   "id": "443a9aaf-3826-4b4d-8b46-292e99f5037a",
   "metadata": {},
   "outputs": [
    {
     "data": {
      "text/plain": [
       "complex"
      ]
     },
     "execution_count": 32,
     "metadata": {},
     "output_type": "execute_result"
    }
   ],
   "source": [
    "type(c)"
   ]
  },
  {
   "cell_type": "code",
   "execution_count": 33,
   "id": "4840564e-afd9-4051-a395-3dc49ebbaaba",
   "metadata": {},
   "outputs": [
    {
     "data": {
      "text/plain": [
       "(1+20j)"
      ]
     },
     "execution_count": 33,
     "metadata": {},
     "output_type": "execute_result"
    }
   ],
   "source": [
    "c"
   ]
  },
  {
   "cell_type": "code",
   "execution_count": 34,
   "id": "04b77231-591c-4a78-be0a-3f450784537e",
   "metadata": {},
   "outputs": [
    {
     "data": {
      "text/plain": [
       "1.0"
      ]
     },
     "execution_count": 34,
     "metadata": {},
     "output_type": "execute_result"
    }
   ],
   "source": [
    "c.real"
   ]
  },
  {
   "cell_type": "code",
   "execution_count": 35,
   "id": "6809a104-2dc7-4384-a36f-d9be5548e538",
   "metadata": {},
   "outputs": [
    {
     "data": {
      "text/plain": [
       "20.0"
      ]
     },
     "execution_count": 35,
     "metadata": {},
     "output_type": "execute_result"
    }
   ],
   "source": [
    "c.imag"
   ]
  },
  {
   "cell_type": "markdown",
   "id": "d493ce58-e7da-407d-96a7-ed706506a1dc",
   "metadata": {},
   "source": [
    "`type c. and hit tab button you can see the options ` "
   ]
  },
  {
   "cell_type": "code",
   "execution_count": 36,
   "id": "e6362413-4fa1-480a-99b9-1a6f0dcb1cae",
   "metadata": {},
   "outputs": [
    {
     "name": "stdout",
     "output_type": "stream",
     "text": [
      "(40+60j)\n",
      "(-20-20j)\n"
     ]
    }
   ],
   "source": [
    "c1 = 10+20j\n",
    "c2 = 30+40j\n",
    "\n",
    "print (c1 + c2)\n",
    "\n",
    "print (c1 - c2)"
   ]
  },
  {
   "cell_type": "markdown",
   "id": "47522230-891c-45df-b657-794dfd2fd780",
   "metadata": {},
   "source": [
    "`No space should be given befro j ( 20j  not 20 j)`"
   ]
  },
  {
   "cell_type": "markdown",
   "id": "19e05b7c-0631-4a7f-b2e1-edf598e534f7",
   "metadata": {},
   "source": [
    "# STRING DATA TYPE"
   ]
  },
  {
   "cell_type": "code",
   "execution_count": 37,
   "id": "253d4ede-9e66-4379-b6be-e4caeefa1d07",
   "metadata": {},
   "outputs": [
    {
     "data": {
      "text/plain": [
       "'nit'"
      ]
     },
     "execution_count": 37,
     "metadata": {},
     "output_type": "execute_result"
    }
   ],
   "source": [
    "s = 'nit'\n",
    "s"
   ]
  },
  {
   "cell_type": "code",
   "execution_count": 38,
   "id": "a54e9907-10a6-4d5c-b18b-2afaef02b711",
   "metadata": {},
   "outputs": [
    {
     "data": {
      "text/plain": [
       "str"
      ]
     },
     "execution_count": 38,
     "metadata": {},
     "output_type": "execute_result"
    }
   ],
   "source": [
    "type (s)"
   ]
  },
  {
   "cell_type": "code",
   "execution_count": 39,
   "id": "5ec490b5-b964-40f5-902d-5baffbf1d71b",
   "metadata": {},
   "outputs": [
    {
     "data": {
      "text/plain": [
       "'hello python'"
      ]
     },
     "execution_count": 39,
     "metadata": {},
     "output_type": "execute_result"
    }
   ],
   "source": [
    "s1= 'hello python'\n",
    "s1"
   ]
  },
  {
   "cell_type": "code",
   "execution_count": 40,
   "id": "081f8a9e-49f0-42b0-a629-3eb7554dcef7",
   "metadata": {},
   "outputs": [
    {
     "data": {
      "text/plain": [
       "'nit hello python'"
      ]
     },
     "execution_count": 40,
     "metadata": {},
     "output_type": "execute_result"
    }
   ],
   "source": [
    "s2 = '''nit hello python'''\n",
    "s2\n"
   ]
  },
  {
   "cell_type": "markdown",
   "id": "2ad357a7-eba0-4034-b776-e5684114da48",
   "metadata": {},
   "source": [
    "####  We can define string in 3 ways "
   ]
  },
  {
   "cell_type": "markdown",
   "id": "28322cc5-0430-4e51-b0fb-4523dc1b8f67",
   "metadata": {},
   "source": [
    "- single qutoe      `'   '` "
   ]
  },
  {
   "cell_type": "markdown",
   "id": "fb023fa6-e10b-4ba3-a98e-2e86c51deff1",
   "metadata": {},
   "source": [
    "- double quote     `''    ''`"
   ]
  },
  {
   "cell_type": "markdown",
   "id": "93cfa1df-7223-4abb-8aca-8a27f349053d",
   "metadata": {},
   "source": [
    "- thriple quote    `'''     '''`"
   ]
  },
  {
   "cell_type": "markdown",
   "id": "bf283f75-4718-49c4-8def-ab178442ec5f",
   "metadata": {},
   "source": [
    "- Single qutoe and Double quotes  used for single line comment "
   ]
  },
  {
   "cell_type": "markdown",
   "id": "cb717d30-9305-4179-9fab-dbfb344f3658",
   "metadata": {},
   "source": [
    "- Thriple quote we use for multiline comments"
   ]
  },
  {
   "cell_type": "markdown",
   "id": "a6c4c31f-1b1e-426a-9644-9838eb8a1961",
   "metadata": {},
   "source": [
    "# STRING INDEXING"
   ]
  },
  {
   "cell_type": "markdown",
   "id": "15e4dd03-dea3-4443-9970-8665cc12254f",
   "metadata": {},
   "source": [
    "## In python numbers begin from 0 not from 1 \n",
    "   #### For rxample: 0,1,2,3,4, and so on."
   ]
  },
  {
   "cell_type": "markdown",
   "id": "5057990a-645e-4fa4-8f9d-368829a9134e",
   "metadata": {},
   "source": [
    "-  n= (n-1)"
   ]
  },
  {
   "cell_type": "markdown",
   "id": "9266ee9a-73cf-4466-853c-50c0e2a2db0f",
   "metadata": {},
   "source": [
    "-  String are divied in 2 types  Forward indexing and backward indexing."
   ]
  },
  {
   "cell_type": "markdown",
   "id": "14b81c3b-d227-4e58-9177-8d79a61d8f4c",
   "metadata": {},
   "source": [
    "- Forward indexing means --> LEFT to RIGHT ( 0,1,2,3,4,......)"
   ]
  },
  {
   "cell_type": "markdown",
   "id": "d860969e-4aa8-4098-8f40-434b9014dd00",
   "metadata": {},
   "source": [
    "- Backward indexing means -->  RIGHT to LEFT (-1, -2, -3, -4 ..........)"
   ]
  },
  {
   "cell_type": "code",
   "execution_count": 41,
   "id": "4dccd0e1-82e9-49ae-9916-931b1e6dfd79",
   "metadata": {},
   "outputs": [
    {
     "data": {
      "text/plain": [
       "'hello python'"
      ]
     },
     "execution_count": 41,
     "metadata": {},
     "output_type": "execute_result"
    }
   ],
   "source": [
    "s1"
   ]
  },
  {
   "cell_type": "code",
   "execution_count": 42,
   "id": "9ea41761-5636-43e3-b068-442e315aa673",
   "metadata": {},
   "outputs": [
    {
     "data": {
      "text/plain": [
       "'h'"
      ]
     },
     "execution_count": 42,
     "metadata": {},
     "output_type": "execute_result"
    }
   ],
   "source": [
    "s1 [0]"
   ]
  },
  {
   "cell_type": "code",
   "execution_count": 43,
   "id": "b35a1b6e-6a08-4828-958f-21291ca4952b",
   "metadata": {},
   "outputs": [
    {
     "data": {
      "text/plain": [
       "'t'"
      ]
     },
     "execution_count": 43,
     "metadata": {},
     "output_type": "execute_result"
    }
   ],
   "source": [
    "s1[-4]"
   ]
  },
  {
   "cell_type": "code",
   "execution_count": 44,
   "id": "1e2710f3-3a43-4138-8d8d-d4cbe010b052",
   "metadata": {},
   "outputs": [
    {
     "data": {
      "text/plain": [
       "'o'"
      ]
     },
     "execution_count": 44,
     "metadata": {},
     "output_type": "execute_result"
    }
   ],
   "source": [
    "s1[4]"
   ]
  },
  {
   "cell_type": "code",
   "execution_count": 45,
   "id": "26a5d99c-ed0f-49e3-9728-065d585f6020",
   "metadata": {},
   "outputs": [
    {
     "data": {
      "text/plain": [
       "' '"
      ]
     },
     "execution_count": 45,
     "metadata": {},
     "output_type": "execute_result"
    }
   ],
   "source": [
    "s1[5]"
   ]
  },
  {
   "cell_type": "markdown",
   "id": "c700ebba-7cae-4e79-ba4a-3a7e9a86524c",
   "metadata": {},
   "source": [
    "#### In hello phtyon string  the fifth place is  given as space that is why when you enter s1[5] it is showning space in the out put as above."
   ]
  },
  {
   "cell_type": "code",
   "execution_count": 46,
   "id": "cf488271-e8a2-4413-926e-b53aa799908c",
   "metadata": {},
   "outputs": [
    {
     "data": {
      "text/plain": [
       "' '"
      ]
     },
     "execution_count": 46,
     "metadata": {},
     "output_type": "execute_result"
    }
   ],
   "source": [
    "s1[-7]"
   ]
  },
  {
   "cell_type": "code",
   "execution_count": 47,
   "id": "9c5f6bd8-330f-47ca-a0d3-535cb7ad2a78",
   "metadata": {},
   "outputs": [
    {
     "data": {
      "text/plain": [
       "'nit'"
      ]
     },
     "execution_count": 47,
     "metadata": {},
     "output_type": "execute_result"
    }
   ],
   "source": [
    "s"
   ]
  },
  {
   "cell_type": "code",
   "execution_count": 48,
   "id": "4994c545-aa02-4b70-96e1-9d0ea9374851",
   "metadata": {},
   "outputs": [
    {
     "name": "stdout",
     "output_type": "stream",
     "text": [
      "n\n",
      "i\n",
      "t\n"
     ]
    }
   ],
   "source": [
    "print(s[0])\n",
    "print(s[1])\n",
    "print(s[2])\n"
   ]
  },
  {
   "cell_type": "markdown",
   "id": "eec04780-504f-49c8-9ac7-d7b7e94661bf",
   "metadata": {},
   "source": [
    "#### In the above if we want to print in straight line  use inner brackets like this  [ ]"
   ]
  },
  {
   "cell_type": "markdown",
   "id": "6afc1c74-f0b4-4898-8f5a-be46c8c860d0",
   "metadata": {},
   "source": [
    "# STRING SLICING "
   ]
  },
  {
   "cell_type": "raw",
   "id": "d26db14c-aca9-4a68-b2d1-b3ca8cad5d57",
   "metadata": {},
   "source": [
    "Slincing denotes with coloum (:)"
   ]
  },
  {
   "cell_type": "code",
   "execution_count": 49,
   "id": "75beab07-81af-458f-a59a-e5031d08f2c6",
   "metadata": {},
   "outputs": [
    {
     "data": {
      "text/plain": [
       "'hello python'"
      ]
     },
     "execution_count": 49,
     "metadata": {},
     "output_type": "execute_result"
    }
   ],
   "source": [
    "s1"
   ]
  },
  {
   "cell_type": "code",
   "execution_count": 50,
   "id": "55c876b9-6bee-4f69-a27f-0135115a3a58",
   "metadata": {},
   "outputs": [
    {
     "data": {
      "text/plain": [
       "'hello python'"
      ]
     },
     "execution_count": 50,
     "metadata": {},
     "output_type": "execute_result"
    }
   ],
   "source": [
    "s1[:]"
   ]
  },
  {
   "cell_type": "markdown",
   "id": "9eced51d-2b28-4b14-aad0-58c023b04ad0",
   "metadata": {},
   "source": [
    "- #### Empty Slice means it print the string as it is.\n"
   ]
  },
  {
   "cell_type": "code",
   "execution_count": 51,
   "id": "117e8dfa-c846-47c1-b323-67652b87d6d2",
   "metadata": {},
   "outputs": [
    {
     "data": {
      "text/plain": [
       "'llo p'"
      ]
     },
     "execution_count": 51,
     "metadata": {},
     "output_type": "execute_result"
    }
   ],
   "source": [
    "s1[2:7]"
   ]
  },
  {
   "cell_type": "markdown",
   "id": "6efe8cf6-b3bd-4ab0-a452-eb88b424ab5e",
   "metadata": {},
   "source": [
    "- The above code states s1[2:7} means print 2 index to 7 index from word hello python."
   ]
  },
  {
   "cell_type": "markdown",
   "id": "e6d140f5-47ac-48cf-ae01-df5886107432",
   "metadata": {},
   "source": [
    "- hello python\n"
   ]
  },
  {
   "cell_type": "markdown",
   "id": "f57005f4-b9a1-45a5-b5b3-b3bca2b890a3",
   "metadata": {},
   "source": [
    "- 01234567891011"
   ]
  },
  {
   "cell_type": "markdown",
   "id": "71ba7623-9c69-44f5-9ee5-1b41bc46c3bc",
   "metadata": {},
   "source": [
    "- #### 2:7= llo p( we picked the letter which are fronm 2 to 7 in word hello python, but in hello python the 7th letter is y but in out put it is showing as p because we apply formula (n-1) (7-1=6)\n"
   ]
  },
  {
   "cell_type": "markdown",
   "id": "6843d41b-e3e4-4c60-97e7-0d66571861bf",
   "metadata": {},
   "source": [
    "- #### For the right side index we apply fromula (n-1)"
   ]
  },
  {
   "cell_type": "code",
   "execution_count": 52,
   "id": "f552bca1-e721-4c45-b79c-65f2075b1efd",
   "metadata": {},
   "outputs": [
    {
     "data": {
      "text/plain": [
       "'dataanalyst'"
      ]
     },
     "execution_count": 52,
     "metadata": {},
     "output_type": "execute_result"
    }
   ],
   "source": [
    "s3= 'dataanalyst'\n",
    "s3"
   ]
  },
  {
   "cell_type": "code",
   "execution_count": 53,
   "id": "cdc2b364-a6ed-409d-986e-c091203b05a8",
   "metadata": {},
   "outputs": [
    {
     "data": {
      "text/plain": [
       "'dataanalys'"
      ]
     },
     "execution_count": 53,
     "metadata": {},
     "output_type": "execute_result"
    }
   ],
   "source": [
    "s3[0:10]"
   ]
  },
  {
   "cell_type": "code",
   "execution_count": 54,
   "id": "79437859-8db0-4c65-8456-d97652a9d333",
   "metadata": {},
   "outputs": [
    {
     "data": {
      "text/plain": [
       "'dataanalyst'"
      ]
     },
     "execution_count": 54,
     "metadata": {},
     "output_type": "execute_result"
    }
   ],
   "source": [
    "s3[0:11]"
   ]
  },
  {
   "cell_type": "code",
   "execution_count": 55,
   "id": "b8caaae6-8a5e-4f25-8851-a3a06abfa9d5",
   "metadata": {},
   "outputs": [
    {
     "ename": "IndexError",
     "evalue": "string index out of range",
     "output_type": "error",
     "traceback": [
      "\u001b[1;31m---------------------------------------------------------------------------\u001b[0m",
      "\u001b[1;31mIndexError\u001b[0m                                Traceback (most recent call last)",
      "Cell \u001b[1;32mIn[55], line 1\u001b[0m\n\u001b[1;32m----> 1\u001b[0m s3[\u001b[38;5;241m12\u001b[39m]\n",
      "\u001b[1;31mIndexError\u001b[0m: string index out of range"
     ]
    }
   ],
   "source": [
    "s3[12]"
   ]
  },
  {
   "cell_type": "markdown",
   "id": "9b678026-57eb-44d4-a474-665effa3c9b1",
   "metadata": {},
   "source": [
    "#### in the above code it is hsowing error because the word dataanalyst have only 10 letters and we have entered code as s3[12]  which is out of range, that is why it is showing error"
   ]
  },
  {
   "cell_type": "code",
   "execution_count": 56,
   "id": "4d564ecc-b00e-49e3-a441-9d7e0ac7cfed",
   "metadata": {},
   "outputs": [
    {
     "data": {
      "text/plain": [
       "'t'"
      ]
     },
     "execution_count": 56,
     "metadata": {},
     "output_type": "execute_result"
    }
   ],
   "source": [
    "s3[10]"
   ]
  },
  {
   "cell_type": "code",
   "execution_count": 57,
   "id": "a12044cf-aea4-4702-85ba-dbaa41429bd6",
   "metadata": {},
   "outputs": [
    {
     "data": {
      "text/plain": [
       "'s'"
      ]
     },
     "execution_count": 57,
     "metadata": {},
     "output_type": "execute_result"
    }
   ],
   "source": [
    "s3[9]"
   ]
  },
  {
   "cell_type": "code",
   "execution_count": 58,
   "id": "1985baf5-d678-432a-bf22-f2e7536068f3",
   "metadata": {},
   "outputs": [
    {
     "data": {
      "text/plain": [
       "'st'"
      ]
     },
     "execution_count": 58,
     "metadata": {},
     "output_type": "execute_result"
    }
   ],
   "source": [
    "s3[9:12]"
   ]
  },
  {
   "cell_type": "markdown",
   "id": "4ef9e602-55a9-414d-a5f7-006724ace364",
   "metadata": {},
   "source": [
    "# STRING ADVANCE SLICING"
   ]
  },
  {
   "cell_type": "code",
   "execution_count": 59,
   "id": "48f822bc-0e05-4987-9e57-3d2c7d1be023",
   "metadata": {},
   "outputs": [
    {
     "data": {
      "text/plain": [
       "'dataanalyst'"
      ]
     },
     "execution_count": 59,
     "metadata": {},
     "output_type": "execute_result"
    }
   ],
   "source": [
    "s3"
   ]
  },
  {
   "cell_type": "code",
   "execution_count": 60,
   "id": "89920c51-bb86-463f-a3ef-67084e000d59",
   "metadata": {},
   "outputs": [
    {
     "data": {
      "text/plain": [
       "'dtaayt'"
      ]
     },
     "execution_count": 60,
     "metadata": {},
     "output_type": "execute_result"
    }
   ],
   "source": [
    "s3[0:11:2]"
   ]
  },
  {
   "cell_type": "markdown",
   "id": "afc0db4e-6295-4bae-9ce0-c27f78ff92ef",
   "metadata": {},
   "source": [
    "### dataanalyst "
   ]
  },
  {
   "cell_type": "markdown",
   "id": "7e98db5f-1722-426a-8740-96abf9bb485a",
   "metadata": {},
   "source": [
    "### 012345678910"
   ]
  },
  {
   "cell_type": "markdown",
   "id": "3f05a853-a0a8-4c54-a88e-10df94f8f4e9",
   "metadata": {},
   "source": [
    "- In the above code 2 means step count "
   ]
  },
  {
   "cell_type": "markdown",
   "id": "2088f90f-0e2e-409d-8690-48a41edf8d9f",
   "metadata": {},
   "source": [
    "-  The step count eliminates 2 letters from index, since we mentioned 2 as step count"
   ]
  },
  {
   "cell_type": "markdown",
   "id": "1ccbd528-cf4c-48c2-8317-3c62f0cc9081",
   "metadata": {},
   "source": [
    "-  Whatever number you mention in step count it eliminates that many letter "
   ]
  },
  {
   "cell_type": "markdown",
   "id": "7f7667ad-b7e1-4ec0-b889-e1c5818779cb",
   "metadata": {},
   "source": [
    "- #### For example: if you entered step count as 3 it eliminates 3 letters forn the index as you can see below"
   ]
  },
  {
   "cell_type": "code",
   "execution_count": 61,
   "id": "55e44acc-7248-4e51-89a3-3fa0f4ca02c2",
   "metadata": {},
   "outputs": [
    {
     "data": {
      "text/plain": [
       "'daas'"
      ]
     },
     "execution_count": 61,
     "metadata": {},
     "output_type": "execute_result"
    }
   ],
   "source": [
    "s3[0:11:3]"
   ]
  },
  {
   "cell_type": "code",
   "execution_count": 62,
   "id": "e7bbc5c6-8d01-4bf2-b785-b426bb620164",
   "metadata": {},
   "outputs": [
    {
     "data": {
      "text/plain": [
       "'day'"
      ]
     },
     "execution_count": 62,
     "metadata": {},
     "output_type": "execute_result"
    }
   ],
   "source": [
    "s3[0:11:4]"
   ]
  },
  {
   "cell_type": "code",
   "execution_count": 63,
   "id": "b29c05e5-b7c3-47f7-9130-494bf768a286",
   "metadata": {},
   "outputs": [
    {
     "data": {
      "text/plain": [
       "'taanaly'"
      ]
     },
     "execution_count": 63,
     "metadata": {},
     "output_type": "execute_result"
    }
   ],
   "source": [
    "s3[2:-2]"
   ]
  },
  {
   "cell_type": "code",
   "execution_count": 64,
   "id": "ea9d26be-363a-4830-bac0-fa4d38b884ca",
   "metadata": {},
   "outputs": [
    {
     "name": "stdout",
     "output_type": "stream",
     "text": [
      "nit\n",
      "hello python\n",
      "nit hello python\n",
      "dataanalyst\n"
     ]
    }
   ],
   "source": [
    "print(s)\n",
    "print(s1)\n",
    "print(s2)\n",
    "print(s3)\n"
   ]
  },
  {
   "cell_type": "code",
   "execution_count": 65,
   "id": "18d1c8c6-a865-4454-a212-596febfd0ccd",
   "metadata": {},
   "outputs": [
    {
     "name": "stdout",
     "output_type": "stream",
     "text": [
      "d\n",
      "a\n",
      "t\n",
      "a\n",
      "a\n",
      "n\n",
      "a\n",
      "l\n",
      "y\n",
      "s\n",
      "t\n"
     ]
    }
   ],
   "source": [
    "for i in s3:\n",
    "    print(i)"
   ]
  }
 ],
 "metadata": {
  "kernelspec": {
   "display_name": "Python 3 (ipykernel)",
   "language": "python",
   "name": "python3"
  },
  "language_info": {
   "codemirror_mode": {
    "name": "ipython",
    "version": 3
   },
   "file_extension": ".py",
   "mimetype": "text/x-python",
   "name": "python",
   "nbconvert_exporter": "python",
   "pygments_lexer": "ipython3",
   "version": "3.12.4"
  }
 },
 "nbformat": 4,
 "nbformat_minor": 5
}
