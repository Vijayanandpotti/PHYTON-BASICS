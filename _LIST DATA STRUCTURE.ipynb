{
 "cells": [
  {
   "cell_type": "markdown",
   "id": "437223e7-ab96-46b5-8236-28f0ecc9c1e3",
   "metadata": {},
   "source": [
    "# LIST DATA STRUCTURE"
   ]
  },
  {
   "cell_type": "markdown",
   "id": "4c03428f-be33-4c26-9483-c91131f6b7fa",
   "metadata": {},
   "source": [
    "## DATA TYPE vs  DATA STRUCTURE vs  MATRIX"
   ]
  },
  {
   "cell_type": "markdown",
   "id": "b3107398-1b27-4a2b-8188-1ded64518c08",
   "metadata": {},
   "source": [
    "- #### Collection of DATA STRUCTURE is known as MATRIX \n",
    "\n",
    "- #### Collection of DATA TYPE is known as DATA STRUCTUE\n",
    "\n",
    "- #### The variable which has more  than one value is called as DATA STRUCTURE  `For Example: b = 1,2,3,4,`\n",
    "\n",
    "- #### The Variable which has only one value is called DATA TYPE."
   ]
  },
  {
   "cell_type": "markdown",
   "id": "3e16146c-3523-40e4-87d2-9cd09d898916",
   "metadata": {},
   "source": [
    "# PYTHON DATA STRUCTURE "
   ]
  },
  {
   "cell_type": "markdown",
   "id": "22f7c86e-dee7-404b-a198-8cda630eb415",
   "metadata": {},
   "source": [
    "#### The following are the Python Data Structure of two types\n",
    "\n",
    " `1. PRIMITIVE`                                                                                  \n",
    "  - FLOAT                                              \n",
    "  - INTEGER                                             \n",
    "  - STRING                                             \n",
    "  - BOLLEAN                                            \n",
    "  - COMPLEX\n",
    "\n",
    "`2. NON- PRIMITIVE (BUILT-IN)`\n",
    " - LIST\n",
    " - TUPLE\n",
    " - SET\n",
    " - DICT (Dictionary)"
   ]
  },
  {
   "cell_type": "markdown",
   "id": "659812cf-ea87-46bc-86cc-c463a7505116",
   "metadata": {},
   "source": [
    "# LIST DATA STRUCTURE\n"
   ]
  },
  {
   "cell_type": "markdown",
   "id": "10984b27-f3fc-4325-b6bd-18a4339d210a",
   "metadata": {},
   "source": [
    "### `APPEND FUNCTION`"
   ]
  },
  {
   "cell_type": "markdown",
   "id": "23d0b696-d1d4-4d55-9d0e-93dd567ac343",
   "metadata": {},
   "source": [
    "- #### List Data structure is always defined with square backets `[  ]`\n",
    "- ####  Only in built function fucntions no other function will wroks"
   ]
  },
  {
   "cell_type": "code",
   "execution_count": 1,
   "id": "31540ae0-a3c1-4f87-8fcb-b5f0800bc055",
   "metadata": {},
   "outputs": [
    {
     "data": {
      "text/plain": [
       "[]"
      ]
     },
     "execution_count": 1,
     "metadata": {},
     "output_type": "execute_result"
    }
   ],
   "source": [
    "l = [ ]\n",
    "l"
   ]
  },
  {
   "cell_type": "code",
   "execution_count": 2,
   "id": "b0f9e897-3980-4c41-b2eb-c0f874957b5b",
   "metadata": {},
   "outputs": [
    {
     "data": {
      "text/plain": [
       "list"
      ]
     },
     "execution_count": 2,
     "metadata": {},
     "output_type": "execute_result"
    }
   ],
   "source": [
    "type(l)"
   ]
  },
  {
   "cell_type": "markdown",
   "id": "346b6629-c2b7-44f8-b315-733a8a8e86e2",
   "metadata": {},
   "source": [
    "- #### There is no value in the brackets that is why the output is showing as empty bracket."
   ]
  },
  {
   "cell_type": "code",
   "execution_count": 3,
   "id": "7c6278c6-51d0-4ab2-ac3d-2fa37abbbb93",
   "metadata": {},
   "outputs": [
    {
     "data": {
      "text/plain": [
       "[10]"
      ]
     },
     "execution_count": 3,
     "metadata": {},
     "output_type": "execute_result"
    }
   ],
   "source": [
    "l.append(10)\n",
    "l"
   ]
  },
  {
   "cell_type": "markdown",
   "id": "f0715d8a-8777-4f8c-8d5e-c5405ca1eb15",
   "metadata": {},
   "source": [
    "- ##### In the earlier code l was showing as empty bracket [ ]\n",
    "\n",
    "- ##### To fill in the bracket we enter variable name which is l and then enter dot. and hit the tab button\n",
    "\n",
    "- ##### After you hit the tab button you will see buit-in options\n",
    "\n",
    "- ##### Choose append from the option which means to add the value in the bracket\n",
    "\n",
    "- ##### If you put the cursur on append and press shift+tab you can see its information.\n",
    "\n",
    "- ##### Whatever value we enter in append it will first in order\n",
    "- For example: If you enter value ten first and twenty  the output shows 10 as first and 20 as second"
   ]
  },
  {
   "cell_type": "code",
   "execution_count": 4,
   "id": "b283c867-b387-4328-a84b-b7c4cb36452d",
   "metadata": {},
   "outputs": [
    {
     "data": {
      "text/plain": [
       "[10, 20, 30]"
      ]
     },
     "execution_count": 4,
     "metadata": {},
     "output_type": "execute_result"
    }
   ],
   "source": [
    "l.append(20)\n",
    "l.append(30)\n",
    "l"
   ]
  },
  {
   "cell_type": "code",
   "execution_count": 5,
   "id": "295d3878-7f84-4db9-b8f9-2635cf47aecc",
   "metadata": {},
   "outputs": [
    {
     "ename": "TypeError",
     "evalue": "list.append() takes exactly one argument (4 given)",
     "output_type": "error",
     "traceback": [
      "\u001b[1;31m---------------------------------------------------------------------------\u001b[0m",
      "\u001b[1;31mTypeError\u001b[0m                                 Traceback (most recent call last)",
      "Cell \u001b[1;32mIn[5], line 1\u001b[0m\n\u001b[1;32m----> 1\u001b[0m l\u001b[38;5;241m.\u001b[39mappend(\u001b[38;5;241m20\u001b[39m,\u001b[38;5;241m30\u001b[39m,\u001b[38;5;241m40\u001b[39m,\u001b[38;5;241m50\u001b[39m)\n\u001b[0;32m      2\u001b[0m l\n",
      "\u001b[1;31mTypeError\u001b[0m: list.append() takes exactly one argument (4 given)"
     ]
    }
   ],
   "source": [
    "l.append(20,30,40,50)\n",
    "l"
   ]
  },
  {
   "cell_type": "markdown",
   "id": "6422d98e-e353-438d-9661-dcc095e03418",
   "metadata": {},
   "source": [
    "- #### We cannot write all the values in one variable at once as you get error like above\n",
    "\n",
    "- #### Though a data structure can have more than one value but that has to be written seperatley \n"
   ]
  },
  {
   "cell_type": "code",
   "execution_count": 6,
   "id": "9ba462ec-ddef-422e-8be9-da284c82a3fe",
   "metadata": {},
   "outputs": [
    {
     "data": {
      "text/plain": [
       "[10, 20, 30, 2.3, (1+2j), True, 'nit']"
      ]
     },
     "execution_count": 6,
     "metadata": {},
     "output_type": "execute_result"
    }
   ],
   "source": [
    "l.append(2.3)\n",
    "l.append(1+2j)\n",
    "l.append(True)\n",
    "l.append('nit')\n",
    "l"
   ]
  },
  {
   "cell_type": "markdown",
   "id": "cecd2768-5245-4dbb-87da-1a3126068e2b",
   "metadata": {},
   "source": [
    "- #### Like this we can defeine more than one value"
   ]
  },
  {
   "cell_type": "code",
   "execution_count": 7,
   "id": "11e4190f-318d-4f19-91a9-a1a7e1eb5045",
   "metadata": {},
   "outputs": [
    {
     "data": {
      "text/plain": [
       "7"
      ]
     },
     "execution_count": 7,
     "metadata": {},
     "output_type": "execute_result"
    }
   ],
   "source": [
    "len(l)"
   ]
  },
  {
   "cell_type": "code",
   "execution_count": 8,
   "id": "a9797513-0b04-4fa9-b46d-fff145fb6b02",
   "metadata": {},
   "outputs": [
    {
     "data": {
      "text/plain": [
       "[10, 20, 30, 2.3, (1+2j), True, 'nit', 10]"
      ]
     },
     "execution_count": 8,
     "metadata": {},
     "output_type": "execute_result"
    }
   ],
   "source": [
    "l.append(10)\n",
    "l\n"
   ]
  },
  {
   "cell_type": "code",
   "execution_count": 9,
   "id": "447494df-702a-4660-987b-4d6e37dc64a3",
   "metadata": {},
   "outputs": [
    {
     "data": {
      "text/plain": [
       "8"
      ]
     },
     "execution_count": 9,
     "metadata": {},
     "output_type": "execute_result"
    }
   ],
   "source": [
    "len(l)"
   ]
  },
  {
   "cell_type": "markdown",
   "id": "535af786-a3eb-4b11-b64b-4028c24f1431",
   "metadata": {},
   "source": [
    " ### `REMOVE FUNCTION`"
   ]
  },
  {
   "cell_type": "code",
   "execution_count": 10,
   "id": "9124e093-6cee-459b-a967-8e7f709265ad",
   "metadata": {},
   "outputs": [
    {
     "data": {
      "text/plain": [
       "[20, 30, 2.3, (1+2j), True, 'nit', 10]"
      ]
     },
     "execution_count": 10,
     "metadata": {},
     "output_type": "execute_result"
    }
   ],
   "source": [
    "l.remove(10)\n",
    "l"
   ]
  },
  {
   "cell_type": "markdown",
   "id": "9cb55a99-e84f-4090-a11f-6e4fed76b8b1",
   "metadata": {},
   "source": [
    "- #### The remove function will remove the value of first occurance.\n",
    "- #### It means it will remove the first number of same number.\n",
    "- #### In the ablove as you can see the first 10 is missing as there are duplicates."
   ]
  },
  {
   "cell_type": "code",
   "execution_count": 11,
   "id": "96036440-9d39-4900-a1d7-1fe3f1309144",
   "metadata": {},
   "outputs": [
    {
     "data": {
      "text/plain": [
       "[20, 30, 2.3, (1+2j), True, 'nit']"
      ]
     },
     "execution_count": 11,
     "metadata": {},
     "output_type": "execute_result"
    }
   ],
   "source": [
    "l.remove(10)\n",
    "l"
   ]
  },
  {
   "cell_type": "markdown",
   "id": "09a9f8c8-3643-4d1c-9796-06f12acabb7b",
   "metadata": {},
   "source": [
    "### `COPY FUNCTION`"
   ]
  },
  {
   "cell_type": "code",
   "execution_count": 12,
   "id": "2d932a41-386a-4766-a760-73dd88ba702f",
   "metadata": {},
   "outputs": [
    {
     "data": {
      "text/plain": [
       "[20, 30, 2.3, (1+2j), True, 'nit']"
      ]
     },
     "execution_count": 12,
     "metadata": {},
     "output_type": "execute_result"
    }
   ],
   "source": [
    "l"
   ]
  },
  {
   "cell_type": "code",
   "execution_count": 13,
   "id": "52ec2619-e647-4d2f-8021-1b355bbd05cf",
   "metadata": {},
   "outputs": [
    {
     "data": {
      "text/plain": [
       "[20, 30, 2.3, (1+2j), True, 'nit']"
      ]
     },
     "execution_count": 13,
     "metadata": {},
     "output_type": "execute_result"
    }
   ],
   "source": [
    "l1 = l.copy()\n",
    "l1"
   ]
  },
  {
   "cell_type": "markdown",
   "id": "3c406bed-2e00-4fef-9bd6-52fb0d6b09c8",
   "metadata": {},
   "source": [
    "- #### The copy function allow us to copy from one variable to nother new variable\n",
    "- ####  When you are copying the exisiting varaible, you must create a new varialbe to paste the copied element\n",
    "  -  For example: if l= 20,30,40 and you create new varaile\n",
    "- ####  like l1 = l.copy() the output result shows as above"
   ]
  },
  {
   "cell_type": "code",
   "execution_count": 14,
   "id": "0ef90304-76b4-48a8-a962-3b1ddc7ec7f1",
   "metadata": {},
   "outputs": [
    {
     "data": {
      "text/plain": [
       "True"
      ]
     },
     "execution_count": 14,
     "metadata": {},
     "output_type": "execute_result"
    }
   ],
   "source": [
    "l == l1"
   ]
  },
  {
   "cell_type": "markdown",
   "id": "cc3b2a30-7f3e-476b-8bb3-227b0f7403be",
   "metadata": {},
   "source": [
    "- #### To compare two list you use `== operator`\n",
    "- #### Since two varialbe have same element it is showing True"
   ]
  },
  {
   "cell_type": "markdown",
   "id": "4b070970-d123-4a0f-b051-7223448adeb4",
   "metadata": {},
   "source": [
    "### `COUNT FUNCTION`"
   ]
  },
  {
   "cell_type": "code",
   "execution_count": 15,
   "id": "5ee89e3d-34c9-4f57-a820-0c7155b059ca",
   "metadata": {},
   "outputs": [
    {
     "data": {
      "text/plain": [
       "[20, 30, 2.3, (1+2j), True, 'nit']"
      ]
     },
     "execution_count": 15,
     "metadata": {},
     "output_type": "execute_result"
    }
   ],
   "source": [
    "l"
   ]
  },
  {
   "cell_type": "code",
   "execution_count": 16,
   "id": "398e586a-e2a1-4a8a-99ab-658de0d8d65a",
   "metadata": {},
   "outputs": [
    {
     "data": {
      "text/plain": [
       "1"
      ]
     },
     "execution_count": 16,
     "metadata": {},
     "output_type": "execute_result"
    }
   ],
   "source": [
    "l.count(20)"
   ]
  },
  {
   "cell_type": "code",
   "execution_count": 17,
   "id": "166ec73a-ee69-4b8f-8d2a-b810780b767e",
   "metadata": {},
   "outputs": [
    {
     "data": {
      "text/plain": [
       "[20, 30, 2.3, (1+2j), True, 'nit', 20]"
      ]
     },
     "execution_count": 17,
     "metadata": {},
     "output_type": "execute_result"
    }
   ],
   "source": [
    "l.append(20)\n",
    "l\n"
   ]
  },
  {
   "cell_type": "code",
   "execution_count": 18,
   "id": "a6b1341e-0e33-4731-8fa6-34483dae8e17",
   "metadata": {},
   "outputs": [
    {
     "data": {
      "text/plain": [
       "1"
      ]
     },
     "execution_count": 18,
     "metadata": {},
     "output_type": "execute_result"
    }
   ],
   "source": [
    "l.count(20)\n",
    "1"
   ]
  },
  {
   "cell_type": "markdown",
   "id": "1cd99e58-9cfa-4c02-b44c-9a7f1c681c7b",
   "metadata": {},
   "source": [
    "- #### This count  fucntion is used to check, how many times  the same value is repeating\n",
    "\n",
    "- #### In the above output 20 is repeating that is why it showing as `1`\n",
    "\n",
    "- #### If the value is repating again the count function will show the number of times of repeating."
   ]
  },
  {
   "cell_type": "code",
   "execution_count": 19,
   "id": "3c6ac85a-67b5-4e7c-9251-dcc06ac853db",
   "metadata": {},
   "outputs": [
    {
     "data": {
      "text/plain": [
       "[20, 30, 2.3, (1+2j), True, 'nit', 20]"
      ]
     },
     "execution_count": 19,
     "metadata": {},
     "output_type": "execute_result"
    }
   ],
   "source": [
    "l[:]"
   ]
  },
  {
   "cell_type": "code",
   "execution_count": 20,
   "id": "4d6da6d8-97f0-4b6a-a5ea-f168c717300b",
   "metadata": {},
   "outputs": [
    {
     "data": {
      "text/plain": [
       "True"
      ]
     },
     "execution_count": 20,
     "metadata": {},
     "output_type": "execute_result"
    }
   ],
   "source": [
    "l[4]"
   ]
  },
  {
   "cell_type": "code",
   "execution_count": 21,
   "id": "6de917f7-4c33-4729-933f-f9578daa620b",
   "metadata": {},
   "outputs": [
    {
     "data": {
      "text/plain": [
       "[20, 30, 2.3, (1+2j), True, 'nit', 20]"
      ]
     },
     "execution_count": 21,
     "metadata": {},
     "output_type": "execute_result"
    }
   ],
   "source": [
    "l"
   ]
  },
  {
   "cell_type": "markdown",
   "id": "83fb7a7a-2cb1-4d5b-83d4-18e432dbb24f",
   "metadata": {},
   "source": [
    "### `CLEAR FUNCTION`"
   ]
  },
  {
   "cell_type": "code",
   "execution_count": 22,
   "id": "f0329e8c-b869-420c-9f04-4286dbe69edc",
   "metadata": {},
   "outputs": [
    {
     "data": {
      "text/plain": [
       "[]"
      ]
     },
     "execution_count": 22,
     "metadata": {},
     "output_type": "execute_result"
    }
   ],
   "source": [
    "l2 =[]\n",
    "l2"
   ]
  },
  {
   "cell_type": "code",
   "execution_count": 23,
   "id": "dc245a4d-10fa-4a2b-9472-ab0322654723",
   "metadata": {},
   "outputs": [
    {
     "data": {
      "text/plain": [
       "[1, 2.3, True, (1+2j), 'nit']"
      ]
     },
     "execution_count": 23,
     "metadata": {},
     "output_type": "execute_result"
    }
   ],
   "source": [
    "l2.append(1)\n",
    "l2.append(2.3)\n",
    "l2.append(True)\n",
    "l2.append(1+2j)\n",
    "l2.append('nit')\n",
    "l2\n"
   ]
  },
  {
   "cell_type": "code",
   "execution_count": 24,
   "id": "516574b9-ec2a-4f7a-9b89-f25b52d494d0",
   "metadata": {},
   "outputs": [
    {
     "data": {
      "text/plain": [
       "[1, 2.3, True, (1+2j), 'nit']"
      ]
     },
     "execution_count": 24,
     "metadata": {},
     "output_type": "execute_result"
    }
   ],
   "source": [
    "l3=l2.copy()\n",
    "l3"
   ]
  },
  {
   "cell_type": "code",
   "execution_count": 25,
   "id": "9bcee4c0-0763-4a5e-b21d-bf2dd20022c4",
   "metadata": {},
   "outputs": [
    {
     "data": {
      "text/plain": [
       "5"
      ]
     },
     "execution_count": 25,
     "metadata": {},
     "output_type": "execute_result"
    }
   ],
   "source": [
    "len(l3)\n",
    "    "
   ]
  },
  {
   "cell_type": "code",
   "execution_count": 26,
   "id": "240d7d76-10aa-4b91-8b5b-5923b2697454",
   "metadata": {},
   "outputs": [
    {
     "data": {
      "text/plain": [
       "[]"
      ]
     },
     "execution_count": 26,
     "metadata": {},
     "output_type": "execute_result"
    }
   ],
   "source": [
    "l3.clear()\n",
    "l3"
   ]
  },
  {
   "cell_type": "code",
   "execution_count": 27,
   "id": "adbb77bc-4a9f-4245-8ff5-20cb6714b144",
   "metadata": {},
   "outputs": [
    {
     "data": {
      "text/plain": [
       "0"
      ]
     },
     "execution_count": 27,
     "metadata": {},
     "output_type": "execute_result"
    }
   ],
   "source": [
    "len(l3)"
   ]
  },
  {
   "cell_type": "code",
   "execution_count": 28,
   "id": "7496a379-a6a6-4955-b219-553a3bc3c662",
   "metadata": {},
   "outputs": [],
   "source": [
    "del l3"
   ]
  },
  {
   "cell_type": "markdown",
   "id": "e0cf57ba-6b6a-47d5-8ece-6b2743911349",
   "metadata": {},
   "source": [
    "- ####  When you copy or create new varialbe and you want to remove  or clear the varialbe after you copy   for that we use clear function.\n",
    "\n",
    "- #### once the varialbe is cleared the length of the varialbe is shown as zero, since we have cleared  that varaible  from the system memory. "
   ]
  },
  {
   "cell_type": "code",
   "execution_count": 29,
   "id": "2c24469f-2378-4d55-b247-473a4593bbba",
   "metadata": {},
   "outputs": [
    {
     "data": {
      "text/plain": [
       "[1, 2.3, True, (1+2j), 'nit']"
      ]
     },
     "execution_count": 29,
     "metadata": {},
     "output_type": "execute_result"
    }
   ],
   "source": [
    "l2"
   ]
  },
  {
   "cell_type": "code",
   "execution_count": 30,
   "id": "7ecdf2ab-0bbc-47e8-ae66-1786ca4549fb",
   "metadata": {},
   "outputs": [
    {
     "data": {
      "text/plain": [
       "[1, True, (1+2j), 'nit']"
      ]
     },
     "execution_count": 30,
     "metadata": {},
     "output_type": "execute_result"
    }
   ],
   "source": [
    "l2.remove(2.3)\n",
    "l2"
   ]
  },
  {
   "cell_type": "code",
   "execution_count": 31,
   "id": "924f6428-dc00-49ad-8c96-8ab94a77920a",
   "metadata": {},
   "outputs": [
    {
     "data": {
      "text/plain": [
       "[1, True, (1+2j), 'nit']"
      ]
     },
     "execution_count": 31,
     "metadata": {},
     "output_type": "execute_result"
    }
   ],
   "source": [
    "l2"
   ]
  },
  {
   "cell_type": "markdown",
   "id": "d6266945-4b88-4dee-aa4a-06396b3bdcd0",
   "metadata": {},
   "source": [
    "### `EXTEND FUNCTION`"
   ]
  },
  {
   "cell_type": "code",
   "execution_count": 32,
   "id": "e3c7d3ba-7905-44a2-94b2-efeb18e2c8fc",
   "metadata": {},
   "outputs": [
    {
     "data": {
      "text/plain": [
       "[]"
      ]
     },
     "execution_count": 32,
     "metadata": {},
     "output_type": "execute_result"
    }
   ],
   "source": [
    "l3=[]\n",
    "l3"
   ]
  },
  {
   "cell_type": "code",
   "execution_count": 33,
   "id": "1d7933b0-bbc8-46cd-8101-32bfa5b2e61b",
   "metadata": {},
   "outputs": [
    {
     "data": {
      "text/plain": [
       "[10]"
      ]
     },
     "execution_count": 33,
     "metadata": {},
     "output_type": "execute_result"
    }
   ],
   "source": [
    "l3.append(10)\n",
    "l3"
   ]
  },
  {
   "cell_type": "code",
   "execution_count": 34,
   "id": "43ca31d9-cc6e-4995-bc5d-32ea1cf63d01",
   "metadata": {},
   "outputs": [
    {
     "data": {
      "text/plain": [
       "[1, True, (1+2j), 'nit']"
      ]
     },
     "execution_count": 34,
     "metadata": {},
     "output_type": "execute_result"
    }
   ],
   "source": [
    "l2"
   ]
  },
  {
   "cell_type": "code",
   "execution_count": 35,
   "id": "c6957cc9-5bbb-4217-98bc-603ee417eb2a",
   "metadata": {},
   "outputs": [
    {
     "data": {
      "text/plain": [
       "[10, 1, True, (1+2j), 'nit']"
      ]
     },
     "execution_count": 35,
     "metadata": {},
     "output_type": "execute_result"
    }
   ],
   "source": [
    "l3.extend(l2)\n",
    "l3"
   ]
  },
  {
   "cell_type": "markdown",
   "id": "08627c8f-5ec9-4689-a4c4-df8572696bf4",
   "metadata": {},
   "source": [
    "- #### The extend fuction is used for to add values from another varaible\n",
    "- #### AS you can see above for l3 varaivle i have extend values from l2 variable.\n",
    "- #### It helps the merges both the variable values.\n",
    "- ####  Technically it is called as concatenation or extended.                                      "
   ]
  },
  {
   "cell_type": "markdown",
   "id": "34191eb0-1652-4ed0-bf86-33b40132a26a",
   "metadata": {},
   "source": [
    "### `INDEX FUNCTION`"
   ]
  },
  {
   "cell_type": "code",
   "execution_count": 36,
   "id": "f93b9c12-dd15-4338-b02d-e2cc89d7d90f",
   "metadata": {},
   "outputs": [
    {
     "data": {
      "text/plain": [
       "[10, 1, True, (1+2j), 'nit']"
      ]
     },
     "execution_count": 36,
     "metadata": {},
     "output_type": "execute_result"
    }
   ],
   "source": [
    "l3"
   ]
  },
  {
   "cell_type": "code",
   "execution_count": 37,
   "id": "ae077dfc-8cdb-4bdc-b240-1ac14269330c",
   "metadata": {},
   "outputs": [
    {
     "data": {
      "text/plain": [
       "3"
      ]
     },
     "execution_count": 37,
     "metadata": {},
     "output_type": "execute_result"
    }
   ],
   "source": [
    "l3.index(1+2j)"
   ]
  },
  {
   "attachments": {
    "14d6a045-ccde-487e-902b-9644be76859c.png": {
     "image/png": "[encoded data removed]"
    }
   },
   "cell_type": "markdown",
   "id": "b59e14ca-763e-4188-a27a-5452b76ecc61",
   "metadata": {},
   "source": [
    "- #### The above output showing as 3 beacuse of the index function\n",
    "\n",
    "- #### The index function is used to know the value position\n",
    "  \n",
    "  ![image.png](attachment:14d6a045-ccde-487e-902b-9644be76859c.png)\n",
    "   \n",
    "- When you write a code to fine the index of (1+2j) the out put shows as 4 because it is coming in 4th order.\n",
    "\n",
    "\n",
    "\n",
    "\n",
    "   "
   ]
  },
  {
   "cell_type": "code",
   "execution_count": 38,
   "id": "f4aef57f-ca02-489a-8323-2f2513521289",
   "metadata": {},
   "outputs": [
    {
     "data": {
      "text/plain": [
       "[1, True, (1+2j), 'nit']"
      ]
     },
     "execution_count": 38,
     "metadata": {},
     "output_type": "execute_result"
    }
   ],
   "source": [
    "l2"
   ]
  },
  {
   "cell_type": "code",
   "execution_count": 39,
   "id": "32c92b29-373b-4d5b-97c2-a3efaeca9c0a",
   "metadata": {},
   "outputs": [
    {
     "data": {
      "text/plain": [
       "3"
      ]
     },
     "execution_count": 39,
     "metadata": {},
     "output_type": "execute_result"
    }
   ],
   "source": [
    "l2.index('nit')"
   ]
  },
  {
   "cell_type": "markdown",
   "id": "05e661d8-b15a-4eeb-a93f-6ba0d505544e",
   "metadata": {},
   "source": [
    "### `INSERT FUNCTION`"
   ]
  },
  {
   "cell_type": "code",
   "execution_count": 40,
   "id": "ed233af5-0154-4343-a30b-17aee4438f3a",
   "metadata": {},
   "outputs": [
    {
     "data": {
      "text/plain": [
       "[1, True, (1+2j), 'nit']"
      ]
     },
     "execution_count": 40,
     "metadata": {},
     "output_type": "execute_result"
    }
   ],
   "source": [
    "l2"
   ]
  },
  {
   "cell_type": "code",
   "execution_count": 41,
   "id": "27facd7a-2182-4f63-adab-79edd9424950",
   "metadata": {},
   "outputs": [
    {
     "data": {
      "text/plain": [
       "[1, True, 'False', (1+2j), 'nit']"
      ]
     },
     "execution_count": 41,
     "metadata": {},
     "output_type": "execute_result"
    }
   ],
   "source": [
    "l2.insert(2, 'False')\n",
    "l2"
   ]
  },
  {
   "cell_type": "markdown",
   "id": "0aaa21c3-0adc-4afd-a7d6-6112a865dbdf",
   "metadata": {},
   "source": [
    "- #### The insert function allows us to add value for the exsiting varailbe\n",
    "- ### if you want add any element in the exisitng varailbe, you need to choose the index postion after that specific element. \n",
    "\n",
    "- #### In the above output i have false that has to appreaed after true so in code i enter `2,false` Because 2 is refering the element after  true. \n",
    "\n",
    "- #### In insert function we always pass two arguments"
   ]
  },
  {
   "cell_type": "markdown",
   "id": "c59186d8-b543-40e2-9908-23d09e5183e3",
   "metadata": {},
   "source": [
    "### `POP  FUNCTION`"
   ]
  },
  {
   "cell_type": "code",
   "execution_count": 42,
   "id": "a95ead1d-4bf8-464e-a263-337647ba7cf8",
   "metadata": {},
   "outputs": [
    {
     "data": {
      "text/plain": [
       "[10, 1, True, (1+2j), 'nit']"
      ]
     },
     "execution_count": 42,
     "metadata": {},
     "output_type": "execute_result"
    }
   ],
   "source": [
    "l3"
   ]
  },
  {
   "cell_type": "code",
   "execution_count": 43,
   "id": "6afcd119-dd62-4516-bb56-27e1e03716c9",
   "metadata": {},
   "outputs": [
    {
     "data": {
      "text/plain": [
       "'nit'"
      ]
     },
     "execution_count": 43,
     "metadata": {},
     "output_type": "execute_result"
    }
   ],
   "source": [
    "l3.pop()"
   ]
  },
  {
   "cell_type": "code",
   "execution_count": 44,
   "id": "f65b0231-4771-4276-8485-a010e942ca39",
   "metadata": {},
   "outputs": [
    {
     "data": {
      "text/plain": [
       "[10, 1, True, (1+2j)]"
      ]
     },
     "execution_count": 44,
     "metadata": {},
     "output_type": "execute_result"
    }
   ],
   "source": [
    "l3"
   ]
  },
  {
   "cell_type": "markdown",
   "id": "bca1c021-5820-4cc7-b76d-8aa507a5b8e7",
   "metadata": {},
   "source": [
    "- #### The pop function with only empty brackets will  remove the  last element by default as you can see in the above function.\n",
    "\n",
    "- #### If you want to remove any specific element then we need to enter index position number inside the bracket, as you can see below.\n"
   ]
  },
  {
   "cell_type": "code",
   "execution_count": 45,
   "id": "8bbb7cf8-8907-4cd7-8035-96ebae38b6a5",
   "metadata": {},
   "outputs": [
    {
     "data": {
      "text/plain": [
       "[10, 1, True, (1+2j)]"
      ]
     },
     "execution_count": 45,
     "metadata": {},
     "output_type": "execute_result"
    }
   ],
   "source": [
    "l3"
   ]
  },
  {
   "cell_type": "code",
   "execution_count": 46,
   "id": "df1323e5-89b9-451d-a6bb-fa485bf96b3c",
   "metadata": {},
   "outputs": [
    {
     "data": {
      "text/plain": [
       "[10, 1, (1+2j)]"
      ]
     },
     "execution_count": 46,
     "metadata": {},
     "output_type": "execute_result"
    }
   ],
   "source": [
    "l3.pop(2)\n",
    "l3"
   ]
  },
  {
   "cell_type": "markdown",
   "id": "2da71561-d03e-4fc7-a3b2-0974e1043ce6",
   "metadata": {},
   "source": [
    "### `SORT FUNCTION`"
   ]
  },
  {
   "cell_type": "code",
   "execution_count": 47,
   "id": "3c3ddfb2-ea5b-41e1-b1b8-42f17494a5f1",
   "metadata": {},
   "outputs": [
    {
     "data": {
      "text/plain": [
       "[10, 100, 3, 45, 76, 24]"
      ]
     },
     "execution_count": 47,
     "metadata": {},
     "output_type": "execute_result"
    }
   ],
   "source": [
    "l4=[10,100,3,45,76,24]\n",
    "l4"
   ]
  },
  {
   "cell_type": "code",
   "execution_count": 48,
   "id": "6ff147f3-93a0-47bd-993e-b68c8371a4f9",
   "metadata": {},
   "outputs": [
    {
     "data": {
      "text/plain": [
       "[3, 10, 24, 45, 76, 100]"
      ]
     },
     "execution_count": 48,
     "metadata": {},
     "output_type": "execute_result"
    }
   ],
   "source": [
    "l4.sort()\n",
    "l4"
   ]
  },
  {
   "cell_type": "code",
   "execution_count": 49,
   "id": "b27095ba-f74c-426c-bfc1-5d178db04620",
   "metadata": {},
   "outputs": [
    {
     "data": {
      "text/plain": [
       "[100, 76, 45, 24, 10, 3]"
      ]
     },
     "execution_count": 49,
     "metadata": {},
     "output_type": "execute_result"
    }
   ],
   "source": [
    "l4.sort(reverse=True)\n",
    "l4"
   ]
  },
  {
   "cell_type": "markdown",
   "id": "bacbf06b-230b-4d4b-9741-3faed17d1e31",
   "metadata": {},
   "source": [
    "- ####  The  sort function is used put the value in the asending order, when you enter only empty brackets it will default show in ascending order.\n",
    " \n",
    "- #### To get the value in descending order you need to write reserve=true  \n",
    "\n",
    "- #### To sort the string also we use same as above\n",
    "\n",
    "- #### The sort fuction is not possible for the combinaton of numeric and alphbatic, "
   ]
  },
  {
   "cell_type": "code",
   "execution_count": 50,
   "id": "6d5cdae3-1115-4d65-a6fa-df5e686b577f",
   "metadata": {},
   "outputs": [
    {
     "data": {
      "text/plain": [
       "['z', 'm', 'c', 'w']"
      ]
     },
     "execution_count": 50,
     "metadata": {},
     "output_type": "execute_result"
    }
   ],
   "source": [
    "l5= ['z', 'm', 'c', 'w']\n",
    "l5"
   ]
  },
  {
   "cell_type": "code",
   "execution_count": 51,
   "id": "4e847465-9d39-4c79-8c49-bf7655e0757c",
   "metadata": {},
   "outputs": [
    {
     "data": {
      "text/plain": [
       "['c', 'm', 'w', 'z']"
      ]
     },
     "execution_count": 51,
     "metadata": {},
     "output_type": "execute_result"
    }
   ],
   "source": [
    "l5.sort()\n",
    "l5"
   ]
  },
  {
   "cell_type": "markdown",
   "id": "d5b0d90a-0df5-4a62-b734-d51cb8a2c389",
   "metadata": {},
   "source": [
    "### `REVERSE FUNCTION`"
   ]
  },
  {
   "cell_type": "code",
   "execution_count": 52,
   "id": "eca23f20-7f77-41d2-976a-ad5223b0d97f",
   "metadata": {},
   "outputs": [
    {
     "data": {
      "text/plain": [
       "[10, 1, (1+2j)]"
      ]
     },
     "execution_count": 52,
     "metadata": {},
     "output_type": "execute_result"
    }
   ],
   "source": [
    "l3"
   ]
  },
  {
   "cell_type": "code",
   "execution_count": 53,
   "id": "670575b3-f8f2-4211-b2de-707e8f14836c",
   "metadata": {},
   "outputs": [
    {
     "data": {
      "text/plain": [
       "[(1+2j), 1, 10]"
      ]
     },
     "execution_count": 53,
     "metadata": {},
     "output_type": "execute_result"
    }
   ],
   "source": [
    "l3.reverse()\n",
    "l3"
   ]
  },
  {
   "cell_type": "markdown",
   "id": "e6d32d58-676b-40d3-9a36-a39a936bbcf1",
   "metadata": {},
   "source": [
    "- #### The reverse function is nused to reverse the value as you can see above."
   ]
  },
  {
   "cell_type": "markdown",
   "id": "9db8ef1b-f739-4964-8412-e8b832ac3a6c",
   "metadata": {},
   "source": [
    "## NESTED LIST"
   ]
  },
  {
   "cell_type": "markdown",
   "id": "54b5f758-c395-43db-94ec-8ce0d96ae2b8",
   "metadata": {},
   "source": [
    "- #### When we use two open brackets between the square  brackets is called as nested list \n",
    "- #### Nested list only works on string"
   ]
  },
  {
   "cell_type": "code",
   "execution_count": 54,
   "id": "986a22d5-8f8a-4592-8d23-0a87f5a34664",
   "metadata": {},
   "outputs": [
    {
     "data": {
      "text/plain": [
       "[1, True, 'False', (1+2j), 'False', 'nit']"
      ]
     },
     "execution_count": 54,
     "metadata": {},
     "output_type": "execute_result"
    }
   ],
   "source": [
    "l2= [1, True, 'False', (1+2j), 'False', 'nit']\n",
    "l2"
   ]
  },
  {
   "cell_type": "code",
   "execution_count": 55,
   "id": "5fb5c003-517e-4efb-8735-f8c2b96a9f37",
   "metadata": {},
   "outputs": [
    {
     "data": {
      "text/plain": [
       "'False'"
      ]
     },
     "execution_count": 55,
     "metadata": {},
     "output_type": "execute_result"
    }
   ],
   "source": [
    "l2[2] # 2 is index postion of false"
   ]
  },
  {
   "cell_type": "code",
   "execution_count": 56,
   "id": "dfe981db-e21d-4ff2-b680-54e8a81a2e8d",
   "metadata": {},
   "outputs": [
    {
     "name": "stdout",
     "output_type": "stream",
     "text": [
      "F\n",
      "a\n",
      "l\n",
      "s\n",
      "e\n"
     ]
    }
   ],
   "source": [
    "print(l2[2][0])\n",
    "print(l2[2][1])\n",
    "print(l2[2][2])\n",
    "print(l2[2][3])\n",
    "print(l2[2][4])"
   ]
  },
  {
   "cell_type": "markdown",
   "id": "c7f821c5-614d-4f82-8dff-5ea56af3e656",
   "metadata": {},
   "source": [
    "## INFORMATION"
   ]
  },
  {
   "cell_type": "markdown",
   "id": "529747d6-2e18-4849-ac75-b0c6dc4d8406",
   "metadata": {},
   "source": [
    "- 1. append:    is used to add the element at last"
   ]
  },
  {
   "cell_type": "markdown",
   "id": "5ade84af-9a94-4916-baae-c24aa43e5b5c",
   "metadata": {},
   "source": [
    "- 2. clear:     is used to clear the element from the list"
   ]
  },
  {
   "cell_type": "markdown",
   "id": "340d9389-966e-4773-9d3d-155f701e9398",
   "metadata": {},
   "source": [
    "- 3. copy:      is used to copy from one list to another list"
   ]
  },
  {
   "cell_type": "markdown",
   "id": "489f626a-4d49-45d8-ac22-b0d90de2c907",
   "metadata": {},
   "source": [
    "- 4. count:     is used to count the lenght of the element"
   ]
  },
  {
   "cell_type": "markdown",
   "id": "13a95b18-e6ae-4db7-8857-a7a86c55d0d0",
   "metadata": {},
   "source": [
    "- 5. extend:    is used to extend the value or merging  between two variables"
   ]
  },
  {
   "cell_type": "markdown",
   "id": "39f6dd99-b7e1-47cf-8a96-34e28fdaac4e",
   "metadata": {},
   "source": [
    "- 6. index:      is used to show the position  of the element "
   ]
  },
  {
   "cell_type": "markdown",
   "id": "f307f7ff-11ec-405b-80e0-b6378a091fef",
   "metadata": {},
   "source": [
    "- 7. insert:     is used to insert new element before the old element  or existing element"
   ]
  },
  {
   "cell_type": "markdown",
   "id": "e424e1ec-4f4a-429b-a41b-f2c0501ef170",
   "metadata": {},
   "source": [
    "- 8. pop:        is used to remove the element from index level (by deafult last element)"
   ]
  },
  {
   "cell_type": "markdown",
   "id": "aca12b21-94af-4bf0-9b6e-fccba536ed13",
   "metadata": {},
   "source": [
    "- 9. reverse:    is used to reversing the list "
   ]
  },
  {
   "cell_type": "markdown",
   "id": "dfc1d261-031b-44d7-99a5-808daeaf312f",
   "metadata": {},
   "source": [
    "- 10.sort:      is used to  put the elemtns in numercial or alphbetical order"
   ]
  },
  {
   "cell_type": "markdown",
   "id": "90600bbb-682a-44f2-8856-2a3365e945f0",
   "metadata": {},
   "source": [
    "# MUTABLE FUNCTION "
   ]
  },
  {
   "cell_type": "markdown",
   "id": "27839960-7531-403e-bf43-d8168957627a",
   "metadata": {},
   "source": [
    "#### The mutable function is used to replace or change the existing element.\n",
    "#### There are two types of mutable\n",
    "    - Mutable or Hasahble\n",
    "    - immutable or unhashable"
   ]
  },
  {
   "cell_type": "code",
   "execution_count": 57,
   "id": "28b4693f-a985-4aa1-9806-7204da87def1",
   "metadata": {},
   "outputs": [
    {
     "data": {
      "text/plain": [
       "['technology', 2.3, 10, (1+2j)]"
      ]
     },
     "execution_count": 57,
     "metadata": {},
     "output_type": "execute_result"
    }
   ],
   "source": [
    "l2= ['technology', 2.3, 10, 1+2j]\n",
    "l2"
   ]
  },
  {
   "cell_type": "code",
   "execution_count": 58,
   "id": "dc83fc08-e42a-4164-9065-42e87d2e9a86",
   "metadata": {},
   "outputs": [
    {
     "data": {
      "text/plain": [
       "['technology', 2.3, 3.2, (1+2j)]"
      ]
     },
     "execution_count": 58,
     "metadata": {},
     "output_type": "execute_result"
    }
   ],
   "source": [
    "l2[2] = 3.2\n",
    "l2"
   ]
  },
  {
   "cell_type": "markdown",
   "id": "d1a60043-a6db-461f-8c54-1ad375ac32fe",
   "metadata": {},
   "source": [
    "- #### The above is showing output replacing 10 as 3.2 beacause,  in the above we have entered index postion and  the element what we need to replace."
   ]
  },
  {
   "cell_type": "code",
   "execution_count": 59,
   "id": "9119e4ac-bc1c-465c-95d7-52e79653c356",
   "metadata": {},
   "outputs": [
    {
     "data": {
      "text/plain": [
       "['technology', 2.3, 3.2, (1+2j)]"
      ]
     },
     "execution_count": 59,
     "metadata": {},
     "output_type": "execute_result"
    }
   ],
   "source": [
    "l2"
   ]
  },
  {
   "cell_type": "code",
   "execution_count": 60,
   "id": "df0b2d34-2808-45d2-a876-c6dfb95ba161",
   "metadata": {},
   "outputs": [
    {
     "name": "stdout",
     "output_type": "stream",
     "text": [
      "technology\n",
      "2.3\n",
      "3.2\n",
      "(1+2j)\n"
     ]
    }
   ],
   "source": [
    "for i in l2:\n",
    "    print(i)"
   ]
  },
  {
   "cell_type": "code",
   "execution_count": 61,
   "id": "614b3854-b11b-4b98-9b04-b710729dabaa",
   "metadata": {},
   "outputs": [
    {
     "name": "stdout",
     "output_type": "stream",
     "text": [
      "<class 'complex'>\n"
     ]
    }
   ],
   "source": [
    "print(type(i))"
   ]
  },
  {
   "cell_type": "markdown",
   "id": "9b58e4d3-b065-49ef-8dc6-30c3ee3a2db0",
   "metadata": {},
   "source": [
    "- #### The above diplaying the output in stragint line, or in a loop, for this we need to write code as above\n",
    "\n",
    "- #### when you use semi coloun : and hit the enter by default it takes 4 spaces.  This is called as   `\"INDENTATION\" `\n",
    "\n",
    "- #### By default indenttation takes 4 spaces ."
   ]
  },
  {
   "cell_type": "code",
   "execution_count": 62,
   "id": "bdafa81e-d1b6-439d-a801-fb0bcb443842",
   "metadata": {},
   "outputs": [
    {
     "data": {
      "text/plain": [
       "(['sbi', 'icici'], ['hdfc', 'kotak'])"
      ]
     },
     "execution_count": 62,
     "metadata": {},
     "output_type": "execute_result"
    }
   ],
   "source": [
    "l6=['sbi', 'icici']\n",
    "l7=['hdfc', 'kotak']\n",
    "\n",
    "l6,l7\n"
   ]
  },
  {
   "cell_type": "markdown",
   "id": "da5eacd9-fdbe-4eea-a8fe-6bd038b02c8c",
   "metadata": {},
   "source": [
    "- #### To merge both of the above strings, we need to create new variable  and add them like below"
   ]
  },
  {
   "cell_type": "code",
   "execution_count": 63,
   "id": "dc6fe5d2-8618-431b-8f9e-32b33e1db1b9",
   "metadata": {},
   "outputs": [
    {
     "data": {
      "text/plain": [
       "['sbi', 'icici', 'hdfc', 'kotak']"
      ]
     },
     "execution_count": 63,
     "metadata": {},
     "output_type": "execute_result"
    }
   ],
   "source": [
    "family_bank= (l6+l7)\n",
    "family_bank"
   ]
  },
  {
   "cell_type": "code",
   "execution_count": 64,
   "id": "7ad7bae4-99bb-4479-b892-bf5cd6fca2f3",
   "metadata": {},
   "outputs": [
    {
     "data": {
      "text/plain": [
       "['technology', 2.3, 3.2, (1+2j)]"
      ]
     },
     "execution_count": 64,
     "metadata": {},
     "output_type": "execute_result"
    }
   ],
   "source": [
    "l2"
   ]
  },
  {
   "cell_type": "code",
   "execution_count": 65,
   "id": "e904dfe4-7d4b-4fa2-9bbe-b29871231b91",
   "metadata": {},
   "outputs": [
    {
     "name": "stdout",
     "output_type": "stream",
     "text": [
      "(0, 'technology')\n",
      "(1, 2.3)\n",
      "(2, 3.2)\n",
      "(3, (1+2j))\n"
     ]
    }
   ],
   "source": [
    "for i in enumerate (l2):\n",
    "    print(i)                # this is the code we use to find the index postion or paid element"
   ]
  },
  {
   "cell_type": "code",
   "execution_count": 66,
   "id": "2ec2abf8-a635-410b-a2c0-11fb9d2b0ca5",
   "metadata": {},
   "outputs": [
    {
     "data": {
      "text/plain": [
       "[20, 30, 2.3, (1+2j), True, 'nit', 20]"
      ]
     },
     "execution_count": 66,
     "metadata": {},
     "output_type": "execute_result"
    }
   ],
   "source": [
    "l=[20, 30, 2.3, 1+2j, True, 'nit', 20]\n",
    "l"
   ]
  },
  {
   "cell_type": "code",
   "execution_count": 67,
   "id": "971bf089-3ff4-4644-baf2-3af3a6b68f2d",
   "metadata": {},
   "outputs": [
    {
     "data": {
      "text/plain": [
       "[20, 30, 2.3, (1+2j), True, 'nit', 20]"
      ]
     },
     "execution_count": 67,
     "metadata": {},
     "output_type": "execute_result"
    }
   ],
   "source": [
    "l[:]\n",
    "l"
   ]
  },
  {
   "cell_type": "code",
   "execution_count": 68,
   "id": "71ff0892-0720-4eb9-9681-dd566326eacd",
   "metadata": {},
   "outputs": [
    {
     "data": {
      "text/plain": [
       "[20, 30, 2.3, (1+2j), True, 'nit', 20]"
      ]
     },
     "execution_count": 68,
     "metadata": {},
     "output_type": "execute_result"
    }
   ],
   "source": [
    "l"
   ]
  },
  {
   "cell_type": "code",
   "execution_count": 69,
   "id": "ec0fb678-1a03-4bcf-b77d-b80365bd5fa6",
   "metadata": {},
   "outputs": [
    {
     "data": {
      "text/plain": [
       "[20, 'nit', True, (1+2j), 2.3, 30, 20]"
      ]
     },
     "execution_count": 69,
     "metadata": {},
     "output_type": "execute_result"
    }
   ],
   "source": [
    "l[:: -1]\n"
   ]
  },
  {
   "cell_type": "code",
   "execution_count": 70,
   "id": "79454049-ec62-4594-9b27-348196f357df",
   "metadata": {},
   "outputs": [
    {
     "data": {
      "text/plain": [
       "[20, 30, 2.3, (1+2j), True, 'nit', 20]"
      ]
     },
     "execution_count": 70,
     "metadata": {},
     "output_type": "execute_result"
    }
   ],
   "source": [
    "l"
   ]
  },
  {
   "cell_type": "code",
   "execution_count": 71,
   "id": "416a5c41-6dee-4a75-a70b-4065227a6bf8",
   "metadata": {},
   "outputs": [
    {
     "data": {
      "text/plain": [
       "[20, True, 2.3, 20]"
      ]
     },
     "execution_count": 71,
     "metadata": {},
     "output_type": "execute_result"
    }
   ],
   "source": [
    "l[:: -2]\n"
   ]
  },
  {
   "cell_type": "code",
   "execution_count": 72,
   "id": "964b5689-0a19-43ae-aa2c-b918a0a71d7c",
   "metadata": {},
   "outputs": [
    {
     "data": {
      "text/plain": [
       "[20, 30, 2.3, (1+2j), True, 'nit', 20]"
      ]
     },
     "execution_count": 72,
     "metadata": {},
     "output_type": "execute_result"
    }
   ],
   "source": [
    "l"
   ]
  },
  {
   "cell_type": "code",
   "execution_count": 73,
   "id": "2bd2f94c-59c8-4dd3-8ceb-45ed05788ad8",
   "metadata": {},
   "outputs": [
    {
     "ename": "IndexError",
     "evalue": "list index out of range",
     "output_type": "error",
     "traceback": [
      "\u001b[1;31m---------------------------------------------------------------------------\u001b[0m",
      "\u001b[1;31mIndexError\u001b[0m                                Traceback (most recent call last)",
      "Cell \u001b[1;32mIn[73], line 1\u001b[0m\n\u001b[1;32m----> 1\u001b[0m l[\u001b[38;5;241m17\u001b[39m]\n",
      "\u001b[1;31mIndexError\u001b[0m: list index out of range"
     ]
    }
   ],
   "source": [
    "l[17]"
   ]
  },
  {
   "cell_type": "code",
   "execution_count": 74,
   "id": "6de0958f-a97f-4c37-8775-3a874d7f70c0",
   "metadata": {},
   "outputs": [
    {
     "data": {
      "text/plain": [
       "[20, 30, 2.3, (1+2j), True, 'nit', 20]"
      ]
     },
     "execution_count": 74,
     "metadata": {},
     "output_type": "execute_result"
    }
   ],
   "source": [
    "l"
   ]
  },
  {
   "cell_type": "code",
   "execution_count": 75,
   "id": "4d7f6f97-18ea-4cc0-aa72-aad3577405ec",
   "metadata": {},
   "outputs": [
    {
     "data": {
      "text/plain": [
       "[2.3, (1+2j), True, 'nit', 20]"
      ]
     },
     "execution_count": 75,
     "metadata": {},
     "output_type": "execute_result"
    }
   ],
   "source": [
    "l[2:] # it print the element from 2nd index to till last, bacuse we havent\n",
    "      #  metioned any end value"
   ]
  },
  {
   "cell_type": "code",
   "execution_count": 76,
   "id": "3e0c505f-291c-48f7-b83a-b028ddbbe32c",
   "metadata": {},
   "outputs": [
    {
     "data": {
      "text/plain": [
       "[20, 30, 2.3, (1+2j), True, 'nit', 20]"
      ]
     },
     "execution_count": 76,
     "metadata": {},
     "output_type": "execute_result"
    }
   ],
   "source": [
    "l"
   ]
  },
  {
   "cell_type": "code",
   "execution_count": 77,
   "id": "475f2eed-237a-4be4-beaa-97e8dc3b9156",
   "metadata": {},
   "outputs": [
    {
     "data": {
      "text/plain": [
       "[20, 30]"
      ]
     },
     "execution_count": 77,
     "metadata": {},
     "output_type": "execute_result"
    }
   ],
   "source": [
    "l[:2] # left side we mentioned : so it takes first elemnet by deafult,\n",
    "      # end we mentond till 2  means  (n-1) 2-1=1"
   ]
  },
  {
   "cell_type": "code",
   "execution_count": 78,
   "id": "e8d8b33e-199e-4eac-b185-c10b0e083650",
   "metadata": {},
   "outputs": [
    {
     "data": {
      "text/plain": [
       "[20, 30, 2.3, (1+2j), True, 'nit', 20]"
      ]
     },
     "execution_count": 78,
     "metadata": {},
     "output_type": "execute_result"
    }
   ],
   "source": [
    "l"
   ]
  },
  {
   "cell_type": "code",
   "execution_count": 79,
   "id": "35532d3a-6647-432a-9022-86a11d2d5b0a",
   "metadata": {},
   "outputs": [
    {
     "data": {
      "text/plain": [
       "[20, 30, 2.3, (1+2j), True, 'nit', 20]"
      ]
     },
     "execution_count": 79,
     "metadata": {},
     "output_type": "execute_result"
    }
   ],
   "source": [
    "l[:7]"
   ]
  },
  {
   "cell_type": "code",
   "execution_count": 80,
   "id": "652cccd1-425b-4d1b-9578-58bba5d910d0",
   "metadata": {},
   "outputs": [
    {
     "data": {
      "text/plain": [
       "[20, 30, 2.3, (1+2j), True, 'nit', 20]"
      ]
     },
     "execution_count": 80,
     "metadata": {},
     "output_type": "execute_result"
    }
   ],
   "source": [
    "l"
   ]
  },
  {
   "cell_type": "markdown",
   "id": "4ac32b1f-49a3-47db-acd2-df3fe487bf1d",
   "metadata": {},
   "source": [
    "### `ADVANCE SLICING`"
   ]
  },
  {
   "cell_type": "code",
   "execution_count": 81,
   "id": "eaaa44e7-9a56-4c4a-93f5-d2eced060b9c",
   "metadata": {},
   "outputs": [
    {
     "data": {
      "text/plain": [
       "[20, (1+2j), 20]"
      ]
     },
     "execution_count": 81,
     "metadata": {},
     "output_type": "execute_result"
    }
   ],
   "source": [
    "l[0:7:3]"
   ]
  },
  {
   "cell_type": "markdown",
   "id": "62eeb8dd-cb10-4a98-abf7-f92cdbd32093",
   "metadata": {},
   "source": [
    "#### In the above code\n",
    "\n",
    "- #####  0 means starting index, if dont give any number systen defaults takesstarting number\n",
    "- ##### 7 means last index or till that index, but we need to minus 1 form 7 because right side index is  always n-i means 7-1=6\n",
    "- ##### 3 means step  we need to eliminate 3 elemnnts till last index what we mentioned."
   ]
  }
 ],
 "metadata": {
  "kernelspec": {
   "display_name": "Python 3 (ipykernel)",
   "language": "python",
   "name": "python3"
  },
  "language_info": {
   "codemirror_mode": {
    "name": "ipython",
    "version": 3
   },
   "file_extension": ".py",
   "mimetype": "text/x-python",
   "name": "python",
   "nbconvert_exporter": "python",
   "pygments_lexer": "ipython3",
   "version": "3.12.4"
  }
 },
 "nbformat": 4,
 "nbformat_minor": 5
}
